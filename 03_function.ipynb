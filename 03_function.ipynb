{
 "cells": [
  {
   "cell_type": "markdown",
   "id": "ae4c3951-a897-425e-a39a-a39ee34398fb",
   "metadata": {},
   "source": [
    "# 함수(function)"
   ]
  },
  {
   "cell_type": "code",
   "execution_count": null,
   "id": "eb4359ab-fafd-4cb0-9eee-165506979140",
   "metadata": {},
   "outputs": [],
   "source": [
    "height = 10\n",
    "width = 20\n",
    "\n",
    "height2 = 50\n",
    "width2 = 100\n",
    "area = height *width\n",
    "perimeter = (height + width) * 2\n",
    "print(f'직사각형의 면적은 {area}, 둘레는 {perimeter} 입니다')\n",
    "\n",
    "area2 = height2 * width2"
   ]
  },
  {
   "cell_type": "markdown",
   "id": "390b5adb-9ce3-4eb1-82c7-e4fd383906a2",
   "metadata": {},
   "source": [
    "## 함수의 선언과 호출\n",
    "\n",
    "- 함수의 선언\n",
    "```python\n",
    "def func_name(parameter1, parameter2):\n",
    "    code1\n",
    "    code2\n",
    "    ...\n",
    "    return value\n",
    "```\n",
    "- 함수의 호출( 실행)\n",
    "```python\n",
    "func_name(parameter1, parameter2)\n",
    "```"
   ]
  },
  {
   "cell_type": "code",
   "execution_count": null,
   "id": "ab096b4e-974e-43da-95e4-b5faef43c79c",
   "metadata": {},
   "outputs": [],
   "source": [
    "def rectangle(height, width):\n",
    "    area = height * width\n",
    "    perimeter = (height + width) * 2\n",
    "    print(area, perimeter)"
   ]
  },
  {
   "cell_type": "code",
   "execution_count": null,
   "id": "54e2cc3f-c468-4547-8b79-c48659e4a5c4",
   "metadata": {},
   "outputs": [],
   "source": [
    "rectangle(100, 50)\n",
    "rectangle(10, 20)\n",
    "rectangle(30, 90)"
   ]
  },
  {
   "cell_type": "code",
   "execution_count": null,
   "id": "154671ef-bb62-40e8-bbb2-6a9aea24e9ba",
   "metadata": {},
   "outputs": [],
   "source": [
    "dir(__builtins__)"
   ]
  },
  {
   "cell_type": "code",
   "execution_count": null,
   "id": "cd2b0ad3-8733-446f-9464-4ee9adc46ba5",
   "metadata": {},
   "outputs": [],
   "source": [
    "# 두 개의 정수를 받아서 큰 수를 출력\n",
    "# def my_max(num1, num2):\n",
    "#     list = [num1, num2]\n",
    "#     result = max(list)\n",
    "#     print(result)\n",
    "\n",
    "def my_max(num1, num2):\n",
    "    if num1 > num2:\n",
    "        print(num1)\n",
    "    elif num1 < num2:\n",
    "        print(num2)\n",
    "    else:\n",
    "        print('같습니다')"
   ]
  },
  {
   "cell_type": "code",
   "execution_count": null,
   "id": "87b433e9-6ef6-4ce8-ab24-e999d11247eb",
   "metadata": {},
   "outputs": [],
   "source": [
    "my_max(3, 4)\n",
    "my_max(5, 5)"
   ]
  },
  {
   "cell_type": "markdown",
   "id": "06293f02-b39a-43a3-99a7-0c78574fd0e5",
   "metadata": {},
   "source": [
    "## 함수의 return\n",
    "\n",
    "- 함수가 return을 만나면 해당 값을 반환하고 함수를 종료합니다.\n",
    "- 만약 return이 없다면 None을 자동으로 반환합니다.\n",
    "- return은 오직 하나의 값만을 반환합니다."
   ]
  },
  {
   "cell_type": "code",
   "execution_count": null,
   "id": "92c57ca5-cafb-45f4-bef9-571c1349303c",
   "metadata": {},
   "outputs": [],
   "source": [
    "def my_max2(num1, num2):\n",
    "\n",
    "    if num1 > num2:\n",
    "        return\n",
    "    elif num1 < num2:\n",
    "        return num2\n",
    "    else:\n",
    "        return num1\n",
    "\n",
    "#return은 이 함수의 결과를 뜻함"
   ]
  },
  {
   "cell_type": "code",
   "execution_count": null,
   "id": "85f83baa-1e63-40e4-bc6d-2df756457358",
   "metadata": {},
   "outputs": [],
   "source": [
    "a = my_max2(1, 2)\n",
    "print(a)"
   ]
  },
  {
   "cell_type": "code",
   "execution_count": null,
   "id": "36f0d3ab-06d4-43b7-b53f-de5e39b79178",
   "metadata": {},
   "outputs": [],
   "source": [
    "def my_list_max(list1, list2):\n",
    "    if sum(list1) > sum(list2):\n",
    "        return list1\n",
    "    else:\n",
    "        return list2"
   ]
  },
  {
   "cell_type": "code",
   "execution_count": null,
   "id": "1eba560b-f6c0-4225-ad96-924bf3273575",
   "metadata": {},
   "outputs": [],
   "source": [
    "my_list_max([1, 2, 3], [2, 3, 4])"
   ]
  },
  {
   "cell_type": "markdown",
   "id": "e2006086-5c5e-4912-abbf-65b771de3e00",
   "metadata": {},
   "source": [
    "## 함수의 인수"
   ]
  },
  {
   "cell_type": "markdown",
   "id": "e4141a60-4830-4e79-9ab1-d2aac60f1fd7",
   "metadata": {},
   "source": [
    "### 위치인수\n",
    "기본적으로 함수는 인수의 위치로 판단합니다."
   ]
  },
  {
   "cell_type": "code",
   "execution_count": null,
   "id": "e8296bcb-dcdd-477c-a7f5-1634c7c013a2",
   "metadata": {},
   "outputs": [],
   "source": [
    "def cylinder(r, h):\n",
    "    return 3.14 * r ** 2 * h"
   ]
  },
  {
   "cell_type": "code",
   "execution_count": null,
   "id": "6eb18a21-11cf-4227-a2cd-a6fa0174781d",
   "metadata": {},
   "outputs": [],
   "source": [
    "cylinder(10, 5)"
   ]
  },
  {
   "cell_type": "code",
   "execution_count": null,
   "id": "78fe411c-63ad-4b3b-858f-5c268ad577cf",
   "metadata": {},
   "outputs": [],
   "source": [
    "print(cylinder(10, 5))\n",
    "print(cylinder(5, 10))"
   ]
  },
  {
   "cell_type": "markdown",
   "id": "43243aea-ed73-43dd-aa86-0cba0230b429",
   "metadata": {},
   "source": [
    "### 기본값\n",
    "```python\n",
    "def func(p1=v1):\n",
    "    code...\n",
    "    return p1\n",
    "```"
   ]
  },
  {
   "cell_type": "code",
   "execution_count": null,
   "id": "d16b2d5f-2fd6-4362-abbc-2036b5445fb7",
   "metadata": {},
   "outputs": [],
   "source": [
    "def greeting(name='익명'):\n",
    "    return f'{name}님 안녕하세요!!'"
   ]
  },
  {
   "cell_type": "code",
   "execution_count": null,
   "id": "26f08f69-6a69-4b37-882a-a57edd8f2db7",
   "metadata": {},
   "outputs": [],
   "source": [
    "greeting('민주')"
   ]
  },
  {
   "cell_type": "code",
   "execution_count": null,
   "id": "8dc6b53e-6a12-4c68-b948-2e4b5c2792d9",
   "metadata": {},
   "outputs": [],
   "source": [
    "greeting()"
   ]
  },
  {
   "cell_type": "code",
   "execution_count": null,
   "id": "b52e83c1-254b-4ff6-884b-4da11b4946e7",
   "metadata": {},
   "outputs": [],
   "source": [
    "print('hello', 'world', sep='?????????????????????//')"
   ]
  },
  {
   "cell_type": "code",
   "execution_count": 30,
   "id": "ffb8f9b6-db05-4404-84a8-5e1ef22ad04e",
   "metadata": {},
   "outputs": [
    {
     "ename": "SyntaxError",
     "evalue": "non-default argument follows default argument (2027944172.py, line 1)",
     "output_type": "error",
     "traceback": [
      "\u001b[1;36m  Cell \u001b[1;32mIn[30], line 1\u001b[1;36m\u001b[0m\n\u001b[1;33m    def greeting(name='익명', age):\u001b[0m\n\u001b[1;37m                            ^\u001b[0m\n\u001b[1;31mSyntaxError\u001b[0m\u001b[1;31m:\u001b[0m non-default argument follows default argument\n"
     ]
    }
   ],
   "source": [
    "def greeting(name='익명', age):\n",
    "    return f'{name}님은 {age}살입니다.'"
   ]
  },
  {
   "cell_type": "code",
   "execution_count": 31,
   "id": "f8988d4c-c00e-4b38-bc24-3bc91a402a0f",
   "metadata": {},
   "outputs": [],
   "source": [
    "def greeting(age, name='익명'):\n",
    "    return f'{name}님은 {age}살입니다.'"
   ]
  },
  {
   "cell_type": "code",
   "execution_count": 32,
   "id": "3366433e-7fb8-4144-903d-eff41d37467d",
   "metadata": {},
   "outputs": [
    {
     "name": "stdout",
     "output_type": "stream",
     "text": [
      "홍길동님은 50살입니다.\n",
      "익명님은 10살입니다.\n"
     ]
    }
   ],
   "source": [
    "print(greetin(50, '홍길동'))\n",
    "print(greeting(10))"
   ]
  },
  {
   "cell_type": "markdown",
   "id": "500f5df9-be85-44ff-9395-1b7030f7988a",
   "metadata": {},
   "source": [
    "### 키워드 인자\n",
    "함수를 호출(실행)할 때 내가 원하는 위치에 직접적으로 특정인자를 전달 가능\n"
   ]
  },
  {
   "cell_type": "code",
   "execution_count": 35,
   "id": "10a7de9e-439e-47a1-99fe-683e3d2ac2c4",
   "metadata": {},
   "outputs": [],
   "source": [
    "def greeting(age, name='익명'):\n",
    "    return f'{name}님은 {age}살입니다.'"
   ]
  },
  {
   "cell_type": "code",
   "execution_count": 39,
   "id": "ff644763-0c1c-4305-a1db-b6236a433a18",
   "metadata": {},
   "outputs": [
    {
     "name": "stdout",
     "output_type": "stream",
     "text": [
      "익명님은 10살입니다.\n",
      "홍길동님은 20살입니다.\n",
      "30님은 홍길동살입니다.\n",
      "홍길동님은 30살입니다.\n"
     ]
    }
   ],
   "source": [
    "print(greeting(10))\n",
    "print(greeting(20, '홍길동'))\n",
    "print(greeting('홍길동', 30))\n",
    "print(greeting(name='홍길동', age=30)) #강제로 지정하는 것"
   ]
  },
  {
   "cell_type": "markdown",
   "id": "4af14ce0-2372-42c6-a923-e79e65b7d005",
   "metadata": {},
   "source": [
    "## 가변 인자 리스트\n",
    "```python\n",
    "def fun(*parms):\n",
    "    code\n",
    "    ...\n",
    "```"
   ]
  },
  {
   "cell_type": "code",
   "execution_count": 40,
   "id": "cdc9b8a8-da00-415d-9c49-9866517f31d8",
   "metadata": {},
   "outputs": [],
   "source": [
    "def my_print(*words):\n",
    "    print(words)\n",
    "    print(type(words))"
   ]
  },
  {
   "cell_type": "code",
   "execution_count": 41,
   "id": "0cf46726-18a5-4ae9-9559-979ccd8b8b66",
   "metadata": {},
   "outputs": [
    {
     "name": "stdout",
     "output_type": "stream",
     "text": [
      "('a', 'b', 'c', 'd')\n",
      "<class 'tuple'>\n"
     ]
    }
   ],
   "source": [
    "my_print('a' ,'b', 'c', 'd')"
   ]
  },
  {
   "cell_type": "code",
   "execution_count": 42,
   "id": "eb6b9046-5a51-42ce-bf9a-d9ec0c6e5dde",
   "metadata": {},
   "outputs": [
    {
     "name": "stdout",
     "output_type": "stream",
     "text": [
      "a/b/c/d\n"
     ]
    }
   ],
   "source": [
    "print('a', 'b', 'c', 'd', sep='/')"
   ]
  },
  {
   "cell_type": "code",
   "execution_count": 44,
   "id": "a45201c3-62f4-4e00-87c7-e8d3477e869e",
   "metadata": {},
   "outputs": [
    {
     "data": {
      "text/plain": [
       "7"
      ]
     },
     "execution_count": 44,
     "metadata": {},
     "output_type": "execute_result"
    }
   ],
   "source": [
    "# 응용해서 간단한 함수 구현\n",
    "max(1, 2, 3, 4, 5, 6, 7)"
   ]
  },
  {
   "cell_type": "code",
   "execution_count": 52,
   "id": "0053868e-0ffd-4c39-aceb-6b26701a3a4e",
   "metadata": {},
   "outputs": [],
   "source": [
    "# 여러 개의 숫자를 받아 그중 가장 큰 수를 리턴\n",
    "def my_max(*numbers): # 튜플구조로 나옴\n",
    "\n",
    "    result = numbers[0] # 첫 번째 데이터가 가장 작다는 가정\n",
    "    for number in numbers:\n",
    "        if result < number:\n",
    "            result = number\n",
    "            \n",
    "    return result"
   ]
  },
  {
   "cell_type": "code",
   "execution_count": 53,
   "id": "76d49422-0605-4243-8791-ad9ba58c5d8b",
   "metadata": {},
   "outputs": [
    {
     "name": "stdout",
     "output_type": "stream",
     "text": [
      "5\n"
     ]
    },
    {
     "data": {
      "text/plain": [
       "-1"
      ]
     },
     "execution_count": 53,
     "metadata": {},
     "output_type": "execute_result"
    }
   ],
   "source": [
    "print(my_max(1, 2, 3, 4, 5))\n",
    "my_max(-1, -2, -3, -4)"
   ]
  },
  {
   "cell_type": "markdown",
   "id": "5cfa1b13-6516-4a19-ab9a-74807661178a",
   "metadata": {},
   "source": [
    "### 정의되지 않은 키워드 인자 처리하ㅣㄱ\n",
    "```python\n",
    "def func(**kwargs):\n",
    "    code\n",
    "    ...\n",
    "```"
   ]
  },
  {
   "cell_type": "code",
   "execution_count": 54,
   "id": "23de5f14-64c3-4dae-a1cb-204009463e27",
   "metadata": {},
   "outputs": [
    {
     "name": "stdout",
     "output_type": "stream",
     "text": [
      "{'name': 'hong', 'age': 10}\n"
     ]
    }
   ],
   "source": [
    "info = {\n",
    "    'name': 'hong',\n",
    "    'age': 10,\n",
    "}\n",
    "print(info)"
   ]
  },
  {
   "cell_type": "code",
   "execution_count": 56,
   "id": "9501f17b-d389-44a3-8720-aa88ea5e900d",
   "metadata": {},
   "outputs": [
    {
     "name": "stdout",
     "output_type": "stream",
     "text": [
      "{'name': 'hong', 'age': 20}\n"
     ]
    }
   ],
   "source": [
    "info = dict(name='hong', age=20)\n",
    "print(info) # dict라는 함수를 사용한 것"
   ]
  },
  {
   "cell_type": "code",
   "execution_count": 81,
   "id": "cb85e1cf-d265-4c08-a2d9-87c9488e1463",
   "metadata": {},
   "outputs": [],
   "source": [
    "def fake_dict(**kwargs):\n",
    "    for key, value in kwargs.items():\n",
    "        print(f'{key}는 {value}입니다.')"
   ]
  },
  {
   "cell_type": "code",
   "execution_count": 82,
   "id": "c7ca8a29-344f-4005-8a71-ab320a09b9dd",
   "metadata": {},
   "outputs": [
    {
     "name": "stdout",
     "output_type": "stream",
     "text": [
      "a는 10입니다.\n",
      "b는 20입니다.\n",
      "korea는 안녕입니다.\n",
      "english는 hello입니다.\n"
     ]
    }
   ],
   "source": [
    "fake_dict(a=10, b=20)\n",
    "fake_dict(korea='안녕', english='hello')"
   ]
  },
  {
   "cell_type": "markdown",
   "id": "2467d5b7-90f0-41c8-848d-cc17a0ee07bd",
   "metadata": {},
   "source": [
    "## dictionary를 인자로 넣기(unpacking)"
   ]
  },
  {
   "cell_type": "code",
   "execution_count": 68,
   "id": "0678a29a-c5d0-4317-a350-1625709d4a7a",
   "metadata": {},
   "outputs": [],
   "source": [
    "def sign_up(id, pw, pw_confirmation):\n",
    "    if pw == pw_confirmation:\n",
    "        print(f'{id}님 회원가입이 완료되었습니다.')\n",
    "    else:\n",
    "        print('비밀번호가 일치하지 않습니다.')\n",
    "    "
   ]
  },
  {
   "cell_type": "code",
   "execution_count": 70,
   "id": "215c646d-189b-4cac-8a95-9a1657bde6e9",
   "metadata": {},
   "outputs": [
    {
     "name": "stdout",
     "output_type": "stream",
     "text": [
      "change님 회원가입이 완료되었습니다.\n",
      "비밀번호가 일치하지 않습니다.\n"
     ]
    }
   ],
   "source": [
    "sign_up('change', '1234', '1234')\n",
    "sign_up('change', '1234', '1235')"
   ]
  },
  {
   "cell_type": "code",
   "execution_count": 73,
   "id": "1b9fc639-3a08-4d93-988a-46fbbc24c26f",
   "metadata": {},
   "outputs": [
    {
     "name": "stdout",
     "output_type": "stream",
     "text": [
      "change님 회원가입이 완료되었습니다.\n"
     ]
    }
   ],
   "source": [
    "account = {\n",
    "    'id': 'change',\n",
    "    'pw': '1234',\n",
    "    'pw_confirmation': '1234',\n",
    "}\n",
    "sign_up(**account)"
   ]
  },
  {
   "cell_type": "markdown",
   "id": "666b51ce-c445-4b50-b998-c451ffdd1770",
   "metadata": {},
   "source": [
    "## lambda 표현식\n",
    "```python\n",
    "lambda parameter: expression\n",
    "```"
   ]
  },
  {
   "cell_type": "code",
   "execution_count": 75,
   "id": "cad0d4f7-a75c-4999-b74e-6d2e1c069d10",
   "metadata": {},
   "outputs": [
    {
     "data": {
      "text/plain": [
       "3"
      ]
     },
     "execution_count": 75,
     "metadata": {},
     "output_type": "execute_result"
    }
   ],
   "source": [
    "(lambda x, y: x+ y)(1, 2)"
   ]
  },
  {
   "cell_type": "code",
   "execution_count": 77,
   "id": "6465687d-1510-4c04-823b-818ad792cfc8",
   "metadata": {},
   "outputs": [
    {
     "data": {
      "text/plain": [
       "3"
      ]
     },
     "execution_count": 77,
     "metadata": {},
     "output_type": "execute_result"
    }
   ],
   "source": [
    "def my_sum(x, y):\n",
    "    return x + y\n",
    "\n",
    "my_sum(1, 2)"
   ]
  },
  {
   "cell_type": "markdown",
   "id": "92378b65-92db-4a25-ba92-baba4106d007",
   "metadata": {},
   "source": [
    "## 타입힌트"
   ]
  },
  {
   "cell_type": "code",
   "execution_count": 78,
   "id": "71ae3c70-a8dd-4fe4-a27a-81ed42a70329",
   "metadata": {},
   "outputs": [],
   "source": [
    "def my_sum(a, b):\n",
    "    return a + b"
   ]
  },
  {
   "cell_type": "code",
   "execution_count": 79,
   "id": "f17171c5-7d35-4f9b-8aa1-e61b3e6797b8",
   "metadata": {},
   "outputs": [
    {
     "ename": "TypeError",
     "evalue": "can only concatenate str (not \"int\") to str",
     "output_type": "error",
     "traceback": [
      "\u001b[1;31m---------------------------------------------------------------------------\u001b[0m",
      "\u001b[1;31mTypeError\u001b[0m                                 Traceback (most recent call last)",
      "Cell \u001b[1;32mIn[79], line 1\u001b[0m\n\u001b[1;32m----> 1\u001b[0m \u001b[43mmy_sum\u001b[49m\u001b[43m(\u001b[49m\u001b[38;5;124;43m'\u001b[39;49m\u001b[38;5;124;43m1\u001b[39;49m\u001b[38;5;124;43m'\u001b[39;49m\u001b[43m,\u001b[49m\u001b[43m \u001b[49m\u001b[38;5;241;43m2\u001b[39;49m\u001b[43m)\u001b[49m\n",
      "Cell \u001b[1;32mIn[78], line 2\u001b[0m, in \u001b[0;36mmy_sum\u001b[1;34m(a, b)\u001b[0m\n\u001b[0;32m      1\u001b[0m \u001b[38;5;28;01mdef\u001b[39;00m \u001b[38;5;21mmy_sum\u001b[39m(a, b):\n\u001b[1;32m----> 2\u001b[0m     \u001b[38;5;28;01mreturn\u001b[39;00m \u001b[43ma\u001b[49m\u001b[43m \u001b[49m\u001b[38;5;241;43m+\u001b[39;49m\u001b[43m \u001b[49m\u001b[43mb\u001b[49m\n",
      "\u001b[1;31mTypeError\u001b[0m: can only concatenate str (not \"int\") to str"
     ]
    }
   ],
   "source": [
    "my_sum('1', 2)"
   ]
  },
  {
   "cell_type": "markdown",
   "id": "d77c2a6a-a885-46d6-8be1-e1d7580246fa",
   "metadata": {},
   "source": [
    "### 이름공간(scope)\n",
    "python에서 사용되는 이름들은 이름공간(namespace)에 저장되어있습니다.\n",
    "\n",
    "- Local scope : 정의된 함수 내부\n",
    "- Enclosed scope : 상위함수\n",
    "- Global scope : 함수 밖의 변수 혹은 import된 모듈\n",
    "- Built-in scope :python이 기본적으로 가지고 있는 함수 혹은 변수"
   ]
  },
  {
   "cell_type": "code",
   "execution_count": 1,
   "id": "beb6fc6a-2420-453c-8f07-9a508df64599",
   "metadata": {},
   "outputs": [],
   "source": [
    "str = '123'"
   ]
  },
  {
   "cell_type": "code",
   "execution_count": 2,
   "id": "ab69adce-9686-4927-b847-aa176854a78b",
   "metadata": {},
   "outputs": [
    {
     "name": "stdout",
     "output_type": "stream",
     "text": [
      "123\n"
     ]
    }
   ],
   "source": [
    "print(str)"
   ]
  },
  {
   "cell_type": "code",
   "execution_count": 6,
   "id": "e3194425-a440-43b3-aeaa-9ca458e85d46",
   "metadata": {},
   "outputs": [
    {
     "data": {
      "text/plain": [
       "'123'"
      ]
     },
     "execution_count": 6,
     "metadata": {},
     "output_type": "execute_result"
    }
   ],
   "source": [
    "str(123)"
   ]
  },
  {
   "cell_type": "code",
   "execution_count": 4,
   "id": "bdfbded1-e464-4ae5-a802-c481b1ce0fcd",
   "metadata": {},
   "outputs": [],
   "source": [
    "del str"
   ]
  },
  {
   "cell_type": "code",
   "execution_count": 5,
   "id": "8c50b98e-b29e-4612-8d62-c2fb554773f6",
   "metadata": {},
   "outputs": [
    {
     "name": "stdout",
     "output_type": "stream",
     "text": [
      "5\n",
      "1\n"
     ]
    }
   ],
   "source": [
    "a = 1\n",
    "\n",
    "def local_scope(a):\n",
    "    print(a) # 가장 가까운 걸 찾으면 된다.\n",
    "\n",
    "local_scope(5)\n",
    "print(a)"
   ]
  },
  {
   "cell_type": "code",
   "execution_count": 7,
   "id": "3cc655a7-47b5-4ba4-b48b-339ef09dd91b",
   "metadata": {},
   "outputs": [
    {
     "name": "stdout",
     "output_type": "stream",
     "text": [
      "10\n"
     ]
    }
   ],
   "source": [
    "a = 10\n",
    "\n",
    "def global_scope():\n",
    "    global a\n",
    "    print(a)\n",
    "\n",
    "global_scope()"
   ]
  },
  {
   "cell_type": "markdown",
   "id": "4cafe4c0-8a19-4d78-9d84-e47734fa4aee",
   "metadata": {},
   "source": [
    "### 재귀(recursive)\n",
    "재귀 함수는 함수 내부에서 자기 자신을 호출하는 함수를 의미한다."
   ]
  },
  {
   "cell_type": "code",
   "execution_count": 10,
   "id": "be5604b6-83fc-4760-967f-6b48884d53b7",
   "metadata": {},
   "outputs": [
    {
     "name": "stdout",
     "output_type": "stream",
     "text": [
      "120\n"
     ]
    }
   ],
   "source": [
    "# 팩토리얼(n! = 1 * 2 * 3 * ... * n)\n",
    "def fact(n):\n",
    "    result = 1\n",
    "\n",
    "    while n > 1:\n",
    "        result = result * n\n",
    "        n = n - 1\n",
    "        \n",
    "    return result\n",
    "\n",
    "print(fact(5))"
   ]
  },
  {
   "cell_type": "markdown",
   "id": "a60e6735-5746-4d55-978a-f85e48e209f5",
   "metadata": {},
   "source": [
    "n! = 1 * 2 * 3 * ... * n-1 * n\n",
    "- 1! = 1\n",
    "- 2! = 1 * 2 = 1! *2\n",
    "- 3! = 1 * 2 * 3 = 2! * 3\n",
    "- 4! = 1 * 2 * 3 * 4 = 3! * 4\n"
   ]
  },
  {
   "cell_type": "code",
   "execution_count": 13,
   "id": "648d8768-881c-4607-bbb7-17950b744353",
   "metadata": {},
   "outputs": [
    {
     "name": "stdout",
     "output_type": "stream",
     "text": [
      "120\n"
     ]
    }
   ],
   "source": [
    "def factorial(n):\n",
    "    if n <= 1:\n",
    "        return 1\n",
    "    else:\n",
    "        return factorial(n-1) * n\n",
    "\n",
    "print(factorial(5))"
   ]
  },
  {
   "cell_type": "markdown",
   "id": "5a735fe0-d09c-466d-9486-34d5b3771d8f",
   "metadata": {},
   "source": [
    "#### 피보나치 수열\n",
    "- F(0) = F(1) = 1\n",
    "- F(N) = F(N-1) + F(N-2)"
   ]
  },
  {
   "cell_type": "code",
   "execution_count": 14,
   "id": "aa5c531e-ca7a-46c4-a4e4-2577467806ee",
   "metadata": {},
   "outputs": [
    {
     "name": "stdout",
     "output_type": "stream",
     "text": [
      "89\n"
     ]
    }
   ],
   "source": [
    "# 반복문\n",
    "def fib_loop(n):\n",
    "    result = [1, 1]\n",
    "\n",
    "    for i in range(1, n):\n",
    "        end1 = result[-1]\n",
    "        end2 = result[-2]\n",
    "\n",
    "        fib_num = end1 + end2\n",
    "\n",
    "        result.append(fib_num)\n",
    "    return  result[-1]\n",
    "\n",
    "print(fib_loop(10))"
   ]
  },
  {
   "cell_type": "code",
   "execution_count": 15,
   "id": "1396ca21-9525-42f3-809e-bc9e045bd272",
   "metadata": {},
   "outputs": [
    {
     "name": "stdout",
     "output_type": "stream",
     "text": [
      "89\n"
     ]
    }
   ],
   "source": [
    "# 재귀\n",
    "# 어떨 때는 이게 더 직관적일 수 있다.\n",
    "def fib_rec(n):\n",
    "    if n == 0 or n == 1:\n",
    "        return 1\n",
    "    else:\n",
    "        return fib_rec(n-1) + fib_rec(n-2)\n",
    "\n",
    "print(fib_rec(10))"
   ]
  },
  {
   "cell_type": "code",
   "execution_count": null,
   "id": "2fbd6793-3b3b-4db4-b201-05569a15fb64",
   "metadata": {},
   "outputs": [],
   "source": []
  }
 ],
 "metadata": {
  "kernelspec": {
   "display_name": "Python 3 (ipykernel)",
   "language": "python",
   "name": "python3"
  },
  "language_info": {
   "codemirror_mode": {
    "name": "ipython",
    "version": 3
   },
   "file_extension": ".py",
   "mimetype": "text/x-python",
   "name": "python",
   "nbconvert_exporter": "python",
   "pygments_lexer": "ipython3",
   "version": "3.11.5"
  }
 },
 "nbformat": 4,
 "nbformat_minor": 5
}
