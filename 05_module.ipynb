{
 "cells": [
  {
   "cell_type": "markdown",
   "id": "468682ef-b3b8-49e6-b13d-96e1f215130e",
   "metadata": {},
   "source": [
    "## 모듈"
   ]
  },
  {
   "cell_type": "code",
   "execution_count": 1,
   "id": "a07032ed-9f55-417c-84c1-4c5030da245a",
   "metadata": {},
   "outputs": [],
   "source": [
    "import fibo"
   ]
  },
  {
   "cell_type": "code",
   "execution_count": 2,
   "id": "c69ca03f-d79c-4101-addd-a4bb9eeb4dda",
   "metadata": {},
   "outputs": [
    {
     "name": "stdout",
     "output_type": "stream",
     "text": [
      "<module 'fibo' from 'C:\\\\Users\\\\minju\\\\Desktop\\\\camp31\\\\python\\\\fibo.py'>\n"
     ]
    }
   ],
   "source": [
    "print(fibo)"
   ]
  },
  {
   "cell_type": "code",
   "execution_count": 4,
   "id": "0e396a1e-663b-4888-8951-258d0358c6d9",
   "metadata": {},
   "outputs": [
    {
     "data": {
      "text/plain": [
       "89"
      ]
     },
     "execution_count": 4,
     "metadata": {},
     "output_type": "execute_result"
    }
   ],
   "source": [
    "fibo.fib_loop(10)"
   ]
  },
  {
   "cell_type": "code",
   "execution_count": 5,
   "id": "d36bbbce-34cb-4780-a662-7978179e4701",
   "metadata": {},
   "outputs": [
    {
     "data": {
      "text/plain": [
       "3"
      ]
     },
     "execution_count": 5,
     "metadata": {},
     "output_type": "execute_result"
    }
   ],
   "source": [
    "fibo.fib_rec(3)"
   ]
  },
  {
   "cell_type": "markdown",
   "id": "08084412-6cd9-47e3-b938-e92949f75f87",
   "metadata": {},
   "source": [
    "## 패키지\n",
    "```python\n",
    "myPackage/\n",
    "    __init__.py\n",
    "    math/\n",
    "        __init__.py\n",
    "        fibo.py\n",
    "        fomula.py\n",
    "```\n",
    "패키지 안에 `__init__.py` 파일이 있어야 패키지로 인식"
   ]
  },
  {
   "cell_type": "markdown",
   "id": "71b0651d-98f9-4bbd-ab88-f3a815f5e800",
   "metadata": {},
   "source": [
    "- 패키지는 캐멀케이스, 파스칼 케이스를 사용\n",
    "- 외부에 있는 파일을 가져오는 것\n",
    "- 모듈이 모여있는 폴더를 지칭"
   ]
  },
  {
   "cell_type": "code",
   "execution_count": 37,
   "id": "822dedb6-a23c-458f-946f-89188247c8da",
   "metadata": {},
   "outputs": [],
   "source": [
    "import myPackage"
   ]
  },
  {
   "cell_type": "code",
   "execution_count": 38,
   "id": "6f162699-7441-4337-863e-d395a930ca5f",
   "metadata": {},
   "outputs": [
    {
     "name": "stdout",
     "output_type": "stream",
     "text": [
      "<module 'myPackage' from 'C:\\\\Users\\\\minju\\\\Desktop\\\\camp31\\\\python\\\\myPackage\\\\__init__.py'>\n"
     ]
    }
   ],
   "source": [
    "print(myPackage)"
   ]
  },
  {
   "cell_type": "code",
   "execution_count": 54,
   "id": "ed9ea1e7-6bc1-4b95-adcd-2afda46e36ea",
   "metadata": {},
   "outputs": [],
   "source": [
    "from myPackage.math import fomula\n",
    "# 경로를 알고 있어야 함\n",
    "# from 패키지.폴더 import 파일"
   ]
  },
  {
   "cell_type": "code",
   "execution_count": 55,
   "id": "caaa6799-3342-4dd4-807a-e914609fad92",
   "metadata": {},
   "outputs": [
    {
     "data": {
      "text/plain": [
       "3.14"
      ]
     },
     "execution_count": 55,
     "metadata": {},
     "output_type": "execute_result"
    }
   ],
   "source": [
    "fomula.pi"
   ]
  },
  {
   "cell_type": "code",
   "execution_count": 56,
   "id": "4e53585d-15dd-4804-837a-aea8e8a1af3d",
   "metadata": {},
   "outputs": [
    {
     "data": {
      "text/plain": [
       "2"
      ]
     },
     "execution_count": 56,
     "metadata": {},
     "output_type": "execute_result"
    }
   ],
   "source": [
    "fomula.my_max(1, 2)"
   ]
  },
  {
   "cell_type": "code",
   "execution_count": 57,
   "id": "428eddd7-fe2e-440f-8045-91bf457f7bf3",
   "metadata": {},
   "outputs": [
    {
     "data": {
      "text/plain": [
       "2"
      ]
     },
     "execution_count": 57,
     "metadata": {},
     "output_type": "execute_result"
    }
   ],
   "source": [
    "import myPackage\n",
    "\n",
    "myPackage.math.fomula.my_max(1, 2)"
   ]
  },
  {
   "cell_type": "code",
   "execution_count": 58,
   "id": "b383ef38-9128-47df-8d20-7158c25986ad",
   "metadata": {},
   "outputs": [],
   "source": [
    "from myPackage.math.fibo import *\n",
    "# *는 모든 함수를 끌고 온다는 뜻\n",
    "# 보통은 쓰지 말라고 함, 필요한 것만 꺼내쓰라는"
   ]
  },
  {
   "cell_type": "code",
   "execution_count": 59,
   "id": "e548b4f4-a789-4e79-814d-8c8856c2d119",
   "metadata": {},
   "outputs": [
    {
     "data": {
      "text/plain": [
       "8"
      ]
     },
     "execution_count": 59,
     "metadata": {},
     "output_type": "execute_result"
    }
   ],
   "source": [
    "fib_loop(5)"
   ]
  },
  {
   "cell_type": "code",
   "execution_count": 60,
   "id": "b4d49405-7fa3-40b5-b5d9-e330796e2bd9",
   "metadata": {},
   "outputs": [
    {
     "data": {
      "text/plain": [
       "5"
      ]
     },
     "execution_count": 60,
     "metadata": {},
     "output_type": "execute_result"
    }
   ],
   "source": [
    "fib_rec(4)"
   ]
  },
  {
   "cell_type": "code",
   "execution_count": 63,
   "id": "184d995e-1e0b-4c85-a997-d22f3fb1443b",
   "metadata": {},
   "outputs": [
    {
     "name": "stdout",
     "output_type": "stream",
     "text": [
      "1234\n",
      "<module 'myPackage.math.fomula' from 'C:\\\\Users\\\\minju\\\\Desktop\\\\camp31\\\\python\\\\myPackage\\\\math\\\\fomula.py'>\n"
     ]
    }
   ],
   "source": [
    "fomula = 1234\n",
    "from myPackage.math import fomula as f\n",
    "# as로 모듈 이름을 다르게 지칭 가능\n",
    "\n",
    "print(fomula)\n",
    "print(f)"
   ]
  },
  {
   "cell_type": "markdown",
   "id": "b5bb499d-971a-46e3-89d1-2f7bee3e40a6",
   "metadata": {},
   "source": [
    "## 파이썬 내장 패키지\n",
    "### math"
   ]
  },
  {
   "cell_type": "code",
   "execution_count": 64,
   "id": "261c64b5-b109-4af9-b7cf-fffb55672ac7",
   "metadata": {},
   "outputs": [],
   "source": [
    "import math"
   ]
  },
  {
   "cell_type": "code",
   "execution_count": 65,
   "id": "046b42a6-158f-45f9-b503-9061decdf148",
   "metadata": {},
   "outputs": [
    {
     "data": {
      "text/plain": [
       "3.141592653589793"
      ]
     },
     "execution_count": 65,
     "metadata": {},
     "output_type": "execute_result"
    }
   ],
   "source": [
    "math.pi"
   ]
  },
  {
   "cell_type": "code",
   "execution_count": 67,
   "id": "1387ee44-1969-42a0-ad90-0317fd047e99",
   "metadata": {},
   "outputs": [
    {
     "data": {
      "text/plain": [
       "2.718281828459045"
      ]
     },
     "execution_count": 67,
     "metadata": {},
     "output_type": "execute_result"
    }
   ],
   "source": [
    "math.e # 자연상수"
   ]
  },
  {
   "cell_type": "code",
   "execution_count": 68,
   "id": "5a8b37d2-cc55-4ae7-9fdc-4921d95d44a4",
   "metadata": {},
   "outputs": [],
   "source": [
    "pi = 3.141592"
   ]
  },
  {
   "cell_type": "code",
   "execution_count": 73,
   "id": "a885dd67-abf6-441c-a6f0-81b9fe07e74b",
   "metadata": {},
   "outputs": [
    {
     "data": {
      "text/plain": [
       "4"
      ]
     },
     "execution_count": 73,
     "metadata": {},
     "output_type": "execute_result"
    }
   ],
   "source": [
    "math.ceil(pi)"
   ]
  },
  {
   "cell_type": "code",
   "execution_count": 70,
   "id": "d12ef9bf-ef90-45a3-be17-b7976500b52a",
   "metadata": {},
   "outputs": [
    {
     "data": {
      "text/plain": [
       "3"
      ]
     },
     "execution_count": 70,
     "metadata": {},
     "output_type": "execute_result"
    }
   ],
   "source": [
    "math.floor(pi)"
   ]
  },
  {
   "cell_type": "code",
   "execution_count": 71,
   "id": "a12fe318-d2f1-4b14-a27e-6f27b4db2353",
   "metadata": {},
   "outputs": [
    {
     "data": {
      "text/plain": [
       "3.0"
      ]
     },
     "execution_count": 71,
     "metadata": {},
     "output_type": "execute_result"
    }
   ],
   "source": [
    "math.sqrt(9)"
   ]
  },
  {
   "cell_type": "code",
   "execution_count": 74,
   "id": "a6846b36-0932-481f-bbeb-c11c658431da",
   "metadata": {},
   "outputs": [
    {
     "data": {
      "text/plain": [
       "3628800"
      ]
     },
     "execution_count": 74,
     "metadata": {},
     "output_type": "execute_result"
    }
   ],
   "source": [
    "math.factorial(10)"
   ]
  },
  {
   "cell_type": "markdown",
   "id": "a6c44fae-1edb-4b64-bbf7-e8640cbcf487",
   "metadata": {},
   "source": [
    "### random"
   ]
  },
  {
   "cell_type": "code",
   "execution_count": 75,
   "id": "aeaf6f0f-4dd9-457e-ab8a-2f61d63e16da",
   "metadata": {},
   "outputs": [],
   "source": [
    "import random"
   ]
  },
  {
   "cell_type": "code",
   "execution_count": 79,
   "id": "de4909cf-7bb2-4bf1-95e8-286a31707508",
   "metadata": {},
   "outputs": [
    {
     "data": {
      "text/plain": [
       "0.2574202838752806"
      ]
     },
     "execution_count": 79,
     "metadata": {},
     "output_type": "execute_result"
    }
   ],
   "source": [
    "random.random()"
   ]
  },
  {
   "cell_type": "code",
   "execution_count": 83,
   "id": "5656e4f9-3840-46a4-a58d-25dad8a976d3",
   "metadata": {},
   "outputs": [
    {
     "data": {
      "text/plain": [
       "6"
      ]
     },
     "execution_count": 83,
     "metadata": {},
     "output_type": "execute_result"
    }
   ],
   "source": [
    "random.randint(1, 10)"
   ]
  },
  {
   "cell_type": "code",
   "execution_count": 86,
   "id": "8ca9e29b-90d4-4488-b05c-cb800e082d1c",
   "metadata": {},
   "outputs": [
    {
     "data": {
      "text/plain": [
       "0.13436424411240122"
      ]
     },
     "execution_count": 86,
     "metadata": {},
     "output_type": "execute_result"
    }
   ],
   "source": [
    "# seed\n",
    "random.seed(1)\n",
    "random.random()"
   ]
  },
  {
   "cell_type": "code",
   "execution_count": 87,
   "id": "c3a322e6-a015-4a9d-b186-4c1dd5368b63",
   "metadata": {},
   "outputs": [
    {
     "name": "stdout",
     "output_type": "stream",
     "text": [
      "[1, 2, 3, 4, 5]\n",
      "[4, 2, 5, 3, 1]\n"
     ]
    }
   ],
   "source": [
    "a = [1, 2, 3, 4, 5]\n",
    "print(a)\n",
    "\n",
    "random.shuffle(a)\n",
    "print(a)"
   ]
  },
  {
   "cell_type": "code",
   "execution_count": 91,
   "id": "603d5657-828c-4a85-9804-2cd037fca0bb",
   "metadata": {},
   "outputs": [
    {
     "data": {
      "text/plain": [
       "'바위'"
      ]
     },
     "execution_count": 91,
     "metadata": {},
     "output_type": "execute_result"
    }
   ],
   "source": [
    "rcp = ['가위', '바위', '보']\n",
    "random.choice(rcp)"
   ]
  },
  {
   "cell_type": "code",
   "execution_count": 94,
   "id": "b6cab3c0-3e07-492d-9c42-e332a5e45a00",
   "metadata": {},
   "outputs": [
    {
     "data": {
      "text/plain": [
       "[14, 7, 32, 2, 25, 28]"
      ]
     },
     "execution_count": 94,
     "metadata": {},
     "output_type": "execute_result"
    }
   ],
   "source": [
    "random.sample(range(1, 46), 6)"
   ]
  },
  {
   "cell_type": "markdown",
   "id": "b3742100-1f4c-45f2-8566-44f72d3a66a3",
   "metadata": {},
   "source": [
    "### datetime"
   ]
  },
  {
   "cell_type": "code",
   "execution_count": 95,
   "id": "0ff7fd69-f91f-49fc-8fe7-1f1738243633",
   "metadata": {},
   "outputs": [],
   "source": [
    "from datetime import datetime"
   ]
  },
  {
   "cell_type": "code",
   "execution_count": 99,
   "id": "a16ecce4-6551-428b-833f-16a6fcf958de",
   "metadata": {},
   "outputs": [
    {
     "data": {
      "text/plain": [
       "datetime.datetime(2023, 10, 11, 10, 21, 31, 974710)"
      ]
     },
     "execution_count": 99,
     "metadata": {},
     "output_type": "execute_result"
    }
   ],
   "source": [
    "datetime.now()"
   ]
  },
  {
   "cell_type": "code",
   "execution_count": 102,
   "id": "43967121-d9da-4a25-b151-b876566ea6e0",
   "metadata": {},
   "outputs": [
    {
     "name": "stdout",
     "output_type": "stream",
     "text": [
      "2023-10-11 10:22:42.423430\n"
     ]
    }
   ],
   "source": [
    "today = datetime.today()\n",
    "print(today)"
   ]
  },
  {
   "cell_type": "code",
   "execution_count": 104,
   "id": "99cb1eb2-dc83-424f-82a4-6359ceab89c0",
   "metadata": {},
   "outputs": [
    {
     "data": {
      "text/plain": [
       "datetime.datetime(2023, 10, 11, 1, 23, 37, 327754)"
      ]
     },
     "execution_count": 104,
     "metadata": {},
     "output_type": "execute_result"
    }
   ],
   "source": [
    "datetime.utcnow()"
   ]
  },
  {
   "cell_type": "code",
   "execution_count": 110,
   "id": "d01b5501-aee1-4877-9c8e-bfd5e0529ad5",
   "metadata": {},
   "outputs": [
    {
     "data": {
      "text/plain": [
       "'2023년 10월 11일 Wed요일'"
      ]
     },
     "execution_count": 110,
     "metadata": {},
     "output_type": "execute_result"
    }
   ],
   "source": [
    "now = datetime.now()\n",
    "now.strftime('%Y년 %m월 %d일 %a요일')"
   ]
  },
  {
   "cell_type": "code",
   "execution_count": 111,
   "id": "5d2106e2-6caa-407e-8c1a-1ea8efbfc2ca",
   "metadata": {},
   "outputs": [
    {
     "data": {
      "text/plain": [
       "2023"
      ]
     },
     "execution_count": 111,
     "metadata": {},
     "output_type": "execute_result"
    }
   ],
   "source": [
    "now.year"
   ]
  },
  {
   "cell_type": "code",
   "execution_count": 112,
   "id": "ab411d10-68a9-4614-97d9-1599043a63b2",
   "metadata": {},
   "outputs": [
    {
     "data": {
      "text/plain": [
       "11"
      ]
     },
     "execution_count": 112,
     "metadata": {},
     "output_type": "execute_result"
    }
   ],
   "source": [
    "now.day"
   ]
  },
  {
   "cell_type": "code",
   "execution_count": 113,
   "id": "ed9e5b82-36b9-4d63-a0f4-fc8cb9810843",
   "metadata": {},
   "outputs": [
    {
     "data": {
      "text/plain": [
       "2"
      ]
     },
     "execution_count": 113,
     "metadata": {},
     "output_type": "execute_result"
    }
   ],
   "source": [
    "# => 0-6 / 월~일\n",
    "now.weekday()"
   ]
  },
  {
   "cell_type": "code",
   "execution_count": 114,
   "id": "21d34cb3-2860-496b-b680-f8647fbe8d1a",
   "metadata": {},
   "outputs": [
    {
     "name": "stdout",
     "output_type": "stream",
     "text": [
      "2023-01-01 00:00:00\n"
     ]
    }
   ],
   "source": [
    "birth = datetime(2023, 1, 1)\n",
    "print(birth)"
   ]
  },
  {
   "cell_type": "code",
   "execution_count": 116,
   "id": "abc0b6b8-f513-4cc2-bc73-c7f5143bbc2c",
   "metadata": {},
   "outputs": [],
   "source": [
    "from datetime import timedelta"
   ]
  },
  {
   "cell_type": "code",
   "execution_count": 118,
   "id": "21faf4a3-6bc7-442c-a54a-b21d0e3415e7",
   "metadata": {},
   "outputs": [
    {
     "name": "stdout",
     "output_type": "stream",
     "text": [
      "3 days, 0:00:00\n"
     ]
    }
   ],
   "source": [
    "future = timedelta(days=3)\n",
    "print(future)"
   ]
  },
  {
   "cell_type": "code",
   "execution_count": 119,
   "id": "71a4c316-5e67-46aa-a5c2-5fd682a27000",
   "metadata": {},
   "outputs": [
    {
     "data": {
      "text/plain": [
       "datetime.datetime(2023, 1, 4, 0, 0)"
      ]
     },
     "execution_count": 119,
     "metadata": {},
     "output_type": "execute_result"
    }
   ],
   "source": [
    "birth + future"
   ]
  },
  {
   "cell_type": "code",
   "execution_count": 121,
   "id": "5d862e53-e22f-4ce5-99c8-8d89f7f22dcc",
   "metadata": {},
   "outputs": [
    {
     "name": "stdout",
     "output_type": "stream",
     "text": [
      "81 days, 13:24:47.699374\n"
     ]
    }
   ],
   "source": [
    "new_year = datetime(2024, 1, 1)\n",
    "now = datetime.now()\n",
    "\n",
    "print(new_year - now)"
   ]
  },
  {
   "cell_type": "code",
   "execution_count": 122,
   "id": "d93671eb-dc06-45a1-92a4-3ea5f45b8c5e",
   "metadata": {},
   "outputs": [
    {
     "name": "stdout",
     "output_type": "stream",
     "text": [
      "2024-01-19 10:36:11.967603\n"
     ]
    }
   ],
   "source": [
    "now = datetime.now()\n",
    "f = timedelta(days = 100)\n",
    "print(now+f)"
   ]
  },
  {
   "cell_type": "code",
   "execution_count": null,
   "id": "762edc3d-57c7-45e0-ac57-8aac08916cee",
   "metadata": {},
   "outputs": [],
   "source": []
  }
 ],
 "metadata": {
  "kernelspec": {
   "display_name": "Python 3 (ipykernel)",
   "language": "python",
   "name": "python3"
  },
  "language_info": {
   "codemirror_mode": {
    "name": "ipython",
    "version": 3
   },
   "file_extension": ".py",
   "mimetype": "text/x-python",
   "name": "python",
   "nbconvert_exporter": "python",
   "pygments_lexer": "ipython3",
   "version": "3.11.5"
  }
 },
 "nbformat": 4,
 "nbformat_minor": 5
}
