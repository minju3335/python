{
 "cells": [
  {
   "cell_type": "markdown",
   "id": "e84b2cc0-8c34-42b5-87d0-3440b4b724eb",
   "metadata": {},
   "source": [
    "# 01.intro"
   ]
  },
  {
   "cell_type": "markdown",
   "id": "d4aa89b7-def1-49eb-9f17-0f0a682700d9",
   "metadata": {},
   "source": [
    "## 단축키\n",
    "- ctrl + enter : 지금 셀 실행\n",
    "- shift + enter : 지금 셀 실행 & 아래로 이동\n",
    "- alt + enter : 지금 셀 실행 & 아래에 새로운 셀 추가"
   ]
  },
  {
   "cell_type": "code",
   "execution_count": null,
   "id": "149477e4-f8df-45f0-ab18-617e49d943d4",
   "metadata": {},
   "outputs": [],
   "source": [
    "#. 주석입니다."
   ]
  },
  {
   "cell_type": "markdown",
   "id": "2286a6e8-182d-49a7-8db2-02407b52d161",
   "metadata": {},
   "source": [
    "## 1.변수\n",
    "변수이름 '=' 값\n",
    "- 변수이름은 어떤 이름이든 상관없음\n",
    "- 영어, 숫자, '_'를 이용하여 선언\n",
    "- 키워드는 사용불가"
   ]
  },
  {
   "cell_type": "code",
   "execution_count": null,
   "id": "fe44453e-56bd-4783-b98b-4421e0e0e862",
   "metadata": {},
   "outputs": [],
   "source": [
    "a = 10"
   ]
  },
  {
   "cell_type": "code",
   "execution_count": null,
   "id": "1013dd2f-cc9e-47de-bf38-687769ebc343",
   "metadata": {},
   "outputs": [],
   "source": [
    "a"
   ]
  },
  {
   "cell_type": "code",
   "execution_count": 2,
   "id": "d0ee8034-0be1-4fcd-8a5c-7f38681597b8",
   "metadata": {},
   "outputs": [
    {
     "data": {
      "text/plain": [
       "['False',\n",
       " 'None',\n",
       " 'True',\n",
       " 'and',\n",
       " 'as',\n",
       " 'assert',\n",
       " 'async',\n",
       " 'await',\n",
       " 'break',\n",
       " 'class',\n",
       " 'continue',\n",
       " 'def',\n",
       " 'del',\n",
       " 'elif',\n",
       " 'else',\n",
       " 'except',\n",
       " 'finally',\n",
       " 'for',\n",
       " 'from',\n",
       " 'global',\n",
       " 'if',\n",
       " 'import',\n",
       " 'in',\n",
       " 'is',\n",
       " 'lambda',\n",
       " 'nonlocal',\n",
       " 'not',\n",
       " 'or',\n",
       " 'pass',\n",
       " 'raise',\n",
       " 'return',\n",
       " 'try',\n",
       " 'while',\n",
       " 'with',\n",
       " 'yield']"
      ]
     },
     "execution_count": 2,
     "metadata": {},
     "output_type": "execute_result"
    }
   ],
   "source": [
    "import keyword\n",
    "keyword.kwlist"
   ]
  },
  {
   "cell_type": "markdown",
   "id": "9f695fb9-cd8b-4238-8c05-c37771c7aa38",
   "metadata": {},
   "source": [
    "## 1.1 number"
   ]
  },
  {
   "cell_type": "code",
   "execution_count": 5,
   "id": "d70ab977-fc14-45c6-9bfd-37b427c4429c",
   "metadata": {},
   "outputs": [],
   "source": [
    "a = 1000000"
   ]
  },
  {
   "cell_type": "code",
   "execution_count": 6,
   "id": "5a81f06f-dede-4e01-8e8a-231e5e163a1b",
   "metadata": {},
   "outputs": [
    {
     "data": {
      "text/plain": [
       "1000000"
      ]
     },
     "execution_count": 6,
     "metadata": {},
     "output_type": "execute_result"
    }
   ],
   "source": [
    "a"
   ]
  },
  {
   "cell_type": "code",
   "execution_count": 7,
   "id": "94209a9a-a08e-4426-b7c0-204188cb87a7",
   "metadata": {},
   "outputs": [
    {
     "data": {
      "text/plain": [
       "int"
      ]
     },
     "execution_count": 7,
     "metadata": {},
     "output_type": "execute_result"
    }
   ],
   "source": [
    "type(a)"
   ]
  },
  {
   "cell_type": "code",
   "execution_count": 8,
   "id": "03ca6b68-de34-4141-87d9-0dfa3fedfd54",
   "metadata": {},
   "outputs": [],
   "source": [
    "b = 1.1"
   ]
  },
  {
   "cell_type": "code",
   "execution_count": 9,
   "id": "10e7ed24-d0d2-430b-afb7-88fc1f91ca04",
   "metadata": {},
   "outputs": [
    {
     "data": {
      "text/plain": [
       "1.1"
      ]
     },
     "execution_count": 9,
     "metadata": {},
     "output_type": "execute_result"
    }
   ],
   "source": [
    "b"
   ]
  },
  {
   "cell_type": "code",
   "execution_count": 10,
   "id": "a30796f3-8fe6-4c03-b233-2f8d3091a4f9",
   "metadata": {},
   "outputs": [
    {
     "data": {
      "text/plain": [
       "float"
      ]
     },
     "execution_count": 10,
     "metadata": {},
     "output_type": "execute_result"
    }
   ],
   "source": [
    "type(b)"
   ]
  },
  {
   "cell_type": "code",
   "execution_count": 11,
   "id": "3d06fae6-4bca-4fc8-b585-66c7747e3f4c",
   "metadata": {},
   "outputs": [],
   "source": [
    "c = 1 - 4j"
   ]
  },
  {
   "cell_type": "code",
   "execution_count": 12,
   "id": "c6d382d6-5769-4944-a6b5-449f223230e4",
   "metadata": {},
   "outputs": [
    {
     "data": {
      "text/plain": [
       "(1-4j)"
      ]
     },
     "execution_count": 12,
     "metadata": {},
     "output_type": "execute_result"
    }
   ],
   "source": [
    "c"
   ]
  },
  {
   "cell_type": "code",
   "execution_count": 13,
   "id": "b4b5d6bb-31f0-4af6-a718-596bb21acd13",
   "metadata": {},
   "outputs": [
    {
     "data": {
      "text/plain": [
       "complex"
      ]
     },
     "execution_count": 13,
     "metadata": {},
     "output_type": "execute_result"
    }
   ],
   "source": [
    "type(c)"
   ]
  },
  {
   "cell_type": "code",
   "execution_count": 15,
   "id": "a754629f-8163-430d-a0f1-8573d9a1472f",
   "metadata": {},
   "outputs": [
    {
     "data": {
      "text/plain": [
       "-4.0"
      ]
     },
     "execution_count": 15,
     "metadata": {},
     "output_type": "execute_result"
    }
   ],
   "source": [
    "c.imag"
   ]
  },
  {
   "cell_type": "code",
   "execution_count": 19,
   "id": "27544e3a-6fba-40fe-a44f-7be2d3577364",
   "metadata": {},
   "outputs": [
    {
     "data": {
      "text/plain": [
       "1.0"
      ]
     },
     "execution_count": 19,
     "metadata": {},
     "output_type": "execute_result"
    }
   ],
   "source": [
    "c.real"
   ]
  },
  {
   "cell_type": "markdown",
   "id": "b32e464f-e6e1-4c56-a0ec-7ee8fd6e7a7f",
   "metadata": {},
   "source": [
    "### 1.2 Boolean\n",
    "\n",
    "`True`, `False`로 이루어진 타입"
   ]
  },
  {
   "cell_type": "code",
   "execution_count": 20,
   "id": "a9314164-0210-4afd-8df6-87667566e986",
   "metadata": {},
   "outputs": [],
   "source": [
    "a = True"
   ]
  },
  {
   "cell_type": "code",
   "execution_count": 21,
   "id": "9c7e872a-8f4a-4d70-a079-020b780fd3f0",
   "metadata": {},
   "outputs": [
    {
     "data": {
      "text/plain": [
       "bool"
      ]
     },
     "execution_count": 21,
     "metadata": {},
     "output_type": "execute_result"
    }
   ],
   "source": [
    "type(a)"
   ]
  },
  {
   "cell_type": "markdown",
   "id": "98e210f5-4d2a-4255-8c76-4044e2dbbb7e",
   "metadata": {},
   "source": [
    "### 1.3 None\n",
    "데이터가 없음을 의미"
   ]
  },
  {
   "cell_type": "code",
   "execution_count": 22,
   "id": "cf99a6d9-282b-43c2-b9a4-febcc03455ec",
   "metadata": {},
   "outputs": [],
   "source": [
    "a = None"
   ]
  },
  {
   "cell_type": "code",
   "execution_count": null,
   "id": "846161cc-c088-483c-86ce-1ee247e0a400",
   "metadata": {},
   "outputs": [],
   "source": [
    "type(a) "
   ]
  },
  {
   "cell_type": "markdown",
   "id": "e49f069f-e17d-474c-9cba-69e0efe29f36",
   "metadata": {},
   "source": [
    "### 1.4 String\n",
    "- 문자열은 `'`, `\"`를 이용하여 표현\n",
    "- 사용할 때 둘 중에 하나를 선택하여 통일을 해주는 게 좋음"
   ]
  },
  {
   "cell_type": "code",
   "execution_count": 24,
   "id": "3894d666-a8dd-4e5d-a542-0c267a4bd12c",
   "metadata": {},
   "outputs": [],
   "source": [
    "a = 'hello'"
   ]
  },
  {
   "cell_type": "code",
   "execution_count": 25,
   "id": "0f433002-4bb0-460b-a92d-d1a6ab94f69f",
   "metadata": {},
   "outputs": [
    {
     "data": {
      "text/plain": [
       "str"
      ]
     },
     "execution_count": 25,
     "metadata": {},
     "output_type": "execute_result"
    }
   ],
   "source": [
    "type(a)"
   ]
  },
  {
   "cell_type": "code",
   "execution_count": 27,
   "id": "d59b0051-f1f3-4948-a4db-11336c9c5653",
   "metadata": {},
   "outputs": [],
   "source": [
    "b = \"world\""
   ]
  },
  {
   "cell_type": "code",
   "execution_count": 28,
   "id": "7db89fcc-5fb9-452f-905b-d83fa2fbb926",
   "metadata": {},
   "outputs": [
    {
     "data": {
      "text/plain": [
       "str"
      ]
     },
     "execution_count": 28,
     "metadata": {},
     "output_type": "execute_result"
    }
   ],
   "source": [
    "type(b)"
   ]
  },
  {
   "cell_type": "code",
   "execution_count": 29,
   "id": "7d4b55f9-d07b-4b1a-98e0-3b80e3c82081",
   "metadata": {},
   "outputs": [
    {
     "name": "stdin",
     "output_type": "stream",
     "text": [
      " 111111\n"
     ]
    }
   ],
   "source": [
    "age = input() # *은 셀이 아직 진행 중인 것"
   ]
  },
  {
   "cell_type": "code",
   "execution_count": 30,
   "id": "a71fa60f-ba9c-435b-b8db-557c6f5d8bb1",
   "metadata": {},
   "outputs": [
    {
     "data": {
      "text/plain": [
       "'111111'"
      ]
     },
     "execution_count": 30,
     "metadata": {},
     "output_type": "execute_result"
    }
   ],
   "source": [
    "age"
   ]
  },
  {
   "cell_type": "code",
   "execution_count": 31,
   "id": "ee1f8531-cee1-476f-b47b-3f9b275b5b96",
   "metadata": {},
   "outputs": [
    {
     "data": {
      "text/plain": [
       "str"
      ]
     },
     "execution_count": 31,
     "metadata": {},
     "output_type": "execute_result"
    }
   ],
   "source": [
    "type(age)"
   ]
  },
  {
   "cell_type": "code",
   "execution_count": 33,
   "id": "c4d63ac2-0caf-4259-b0e7-cf2c1a2a7bca",
   "metadata": {},
   "outputs": [
    {
     "name": "stdout",
     "output_type": "stream",
     "text": [
      "안녕하세요? 김민주입니다.\n"
     ]
    }
   ],
   "source": [
    "print('안녕하세요? 김민주입니다.')"
   ]
  },
  {
   "cell_type": "code",
   "execution_count": 35,
   "id": "62580b05-360c-4b36-86ce-872cf3b64402",
   "metadata": {},
   "outputs": [
    {
     "name": "stdout",
     "output_type": "stream",
     "text": [
      "안녕하세요?'김민주'입니다.\n"
     ]
    }
   ],
   "source": [
    "print(\"안녕하세요?'김민주'입니다.\")"
   ]
  },
  {
   "cell_type": "code",
   "execution_count": 36,
   "id": "b9a8b7c8-890a-4720-a88b-92dc7921a097",
   "metadata": {},
   "outputs": [
    {
     "name": "stdout",
     "output_type": "stream",
     "text": [
      "안녕하세요? '김민주'입니다.\n"
     ]
    }
   ],
   "source": [
    "print('안녕하세요? \\'김민주\\'입니다.')"
   ]
  },
  {
   "cell_type": "code",
   "execution_count": 44,
   "id": "00c95964-3977-4302-a858-fa0e354d9500",
   "metadata": {},
   "outputs": [],
   "source": [
    "a = '''\n",
    "여기는 \\n문자열입니다.\n",
    "여러\\t줄을 작성할 수 있어요.\n",
    "'''"
   ]
  },
  {
   "cell_type": "code",
   "execution_count": 45,
   "id": "a43b8737-cddd-460c-a3ce-d4c658b49b60",
   "metadata": {},
   "outputs": [
    {
     "data": {
      "text/plain": [
       "'\\n여기는 \\n문자열입니다.\\n여러\\t줄을 작성할 수 있어요.\\n'"
      ]
     },
     "execution_count": 45,
     "metadata": {},
     "output_type": "execute_result"
    }
   ],
   "source": [
    "a"
   ]
  },
  {
   "cell_type": "code",
   "execution_count": 46,
   "id": "3907d187-a3fb-40a4-834c-25e7d6701afa",
   "metadata": {},
   "outputs": [
    {
     "name": "stdout",
     "output_type": "stream",
     "text": [
      "\n",
      "여기는 \n",
      "문자열입니다.\n",
      "여러\t줄을 작성할 수 있어요.\n",
      "\n"
     ]
    }
   ],
   "source": [
    "print(a)"
   ]
  },
  {
   "cell_type": "code",
   "execution_count": 47,
   "id": "d0671e08-6309-4914-a0ab-9fccd288c869",
   "metadata": {},
   "outputs": [
    {
     "name": "stdout",
     "output_type": "stream",
     "text": [
      "하나 둘 셋\n"
     ]
    }
   ],
   "source": [
    "print('하나','둘','셋')"
   ]
  },
  {
   "cell_type": "markdown",
   "id": "02cad1c2-2691-4dfb-ad54-411f6146c90f",
   "metadata": {},
   "source": [
    "### string interpolation\n",
    "\n",
    "1. %-formatting\n",
    "2. str.format()\n",
    "3. f-string"
   ]
  },
  {
   "cell_type": "code",
   "execution_count": 48,
   "id": "51c91a1d-3c60-4248-a8fb-a5466bab58d7",
   "metadata": {},
   "outputs": [],
   "source": [
    "age = 10"
   ]
  },
  {
   "cell_type": "code",
   "execution_count": 50,
   "id": "6893e58e-86aa-4edf-adec-bbeb690893ec",
   "metadata": {},
   "outputs": [
    {
     "name": "stdout",
     "output_type": "stream",
     "text": [
      "홍길동은 10살입니다.\n"
     ]
    }
   ],
   "source": [
    "print('홍길동은 %s살입니다.'%age)"
   ]
  },
  {
   "cell_type": "code",
   "execution_count": 51,
   "id": "bd4fa817-07f5-4ace-9395-eaa709974460",
   "metadata": {},
   "outputs": [
    {
     "name": "stdout",
     "output_type": "stream",
     "text": [
      "홍길동은 10살입니다.\n"
     ]
    }
   ],
   "source": [
    "print('홍길동은 {}살입니다.'.format(age))"
   ]
  },
  {
   "cell_type": "code",
   "execution_count": 52,
   "id": "6b84dbda-cfc4-4c4f-a722-c4c0b4eeeba0",
   "metadata": {},
   "outputs": [
    {
     "name": "stdout",
     "output_type": "stream",
     "text": [
      "홍길동은 10살입니다.\n"
     ]
    }
   ],
   "source": [
    "print(f'홍길동은 {age}살입니다.')"
   ]
  },
  {
   "cell_type": "markdown",
   "id": "f0fdb07d-c39b-4b6a-a82f-97925e35b87f",
   "metadata": {},
   "source": [
    "### 2. 연산자\n",
    "2.1 산술연산자"
   ]
  },
  {
   "cell_type": "code",
   "execution_count": 54,
   "id": "788047f7-5763-4e8f-ac46-84ab75b082af",
   "metadata": {},
   "outputs": [],
   "source": [
    "a = 2\n",
    "b = 3"
   ]
  },
  {
   "cell_type": "code",
   "execution_count": 57,
   "id": "8bc8384e-bbf6-435f-a496-4b3232a2a712",
   "metadata": {},
   "outputs": [
    {
     "name": "stdout",
     "output_type": "stream",
     "text": [
      "5\n",
      "-1\n",
      "6\n",
      "0.6666666666666666\n"
     ]
    }
   ],
   "source": [
    "print(a + b)\n",
    "print(a - b)\n",
    "print(a * b)\n",
    "print(a / b)"
   ]
  },
  {
   "cell_type": "code",
   "execution_count": 59,
   "id": "3859dd48-6e24-421c-9eae-91c763990589",
   "metadata": {},
   "outputs": [
    {
     "data": {
      "text/plain": [
       "-1"
      ]
     },
     "execution_count": 59,
     "metadata": {},
     "output_type": "execute_result"
    }
   ],
   "source": [
    "a + b\n",
    "a - b"
   ]
  },
  {
   "cell_type": "code",
   "execution_count": 60,
   "id": "b8a82074-d27c-4670-8223-ef816f41fabe",
   "metadata": {},
   "outputs": [
    {
     "name": "stdout",
     "output_type": "stream",
     "text": [
      "8\n"
     ]
    }
   ],
   "source": [
    "print(a**b)"
   ]
  },
  {
   "cell_type": "code",
   "execution_count": 64,
   "id": "a28dc08d-c4a4-4c9f-9b14-1370e8187f8d",
   "metadata": {},
   "outputs": [
    {
     "name": "stdout",
     "output_type": "stream",
     "text": [
      "0\n",
      "2\n",
      "(0, 2)\n"
     ]
    }
   ],
   "source": [
    "# 나눈 몫\n",
    "print(a // b)\n",
    "# 나눈 나머지를 출력\n",
    "print(a % b)\n",
    "\n",
    "# mod 둘 다 출력해주는 함수\n",
    "print(divmod(a, b))"
   ]
  },
  {
   "cell_type": "markdown",
   "id": "cf1f1e7c-cad7-4058-891b-d4cfe10d799f",
   "metadata": {},
   "source": [
    "### 2.2 비교연산자"
   ]
  },
  {
   "cell_type": "code",
   "execution_count": 66,
   "id": "f61cfe73-88d5-4c65-9970-bd0c55e921a1",
   "metadata": {},
   "outputs": [],
   "source": [
    "a = 5\n",
    "b = 10"
   ]
  },
  {
   "cell_type": "code",
   "execution_count": 70,
   "id": "d762ea47-7f17-4efa-a6b8-552479ee733e",
   "metadata": {},
   "outputs": [
    {
     "name": "stdout",
     "output_type": "stream",
     "text": [
      "False\n",
      "True\n",
      "False\n",
      "True\n"
     ]
    }
   ],
   "source": [
    "print(a > b) # a가 b보다 크나요? 를 물어보는 것\n",
    "print(a < b)\n",
    "print(a >= b)\n",
    "print(a <= b)"
   ]
  },
  {
   "cell_type": "code",
   "execution_count": 72,
   "id": "ae3d745e-38ab-4c73-be44-ee86ded0d19e",
   "metadata": {},
   "outputs": [
    {
     "name": "stdout",
     "output_type": "stream",
     "text": [
      "False\n",
      "True\n"
     ]
    }
   ],
   "source": [
    "print(a == b) # 값 2개가 같나요 ? 를 물어보는 것\n",
    "# =를 한 개는 값을 할당할 때에 사용\n",
    "print(a != b) # 값 2개가 다르나요? 를 물어보는 것"
   ]
  },
  {
   "cell_type": "markdown",
   "id": "f322f668-0272-44c4-b961-71c93baef6ec",
   "metadata": {},
   "source": [
    "### 2.3 논리연산자\n",
    "- `and` : 양쪽 모두 `Ture`일 때 `True`를 반환\n",
    "- `or` : 양쪽 모두 `False`일 때 `False`를 반환\n",
    "- `not` : 값을 반대로 전환"
   ]
  },
  {
   "cell_type": "code",
   "execution_count": 75,
   "id": "d7ae5063-f06d-4956-a605-73c233a39058",
   "metadata": {},
   "outputs": [
    {
     "name": "stdout",
     "output_type": "stream",
     "text": [
      "True\n",
      "False\n",
      "False\n",
      "False\n"
     ]
    }
   ],
   "source": [
    "print(True and True)\n",
    "print(Te and False)\n",
    "print(False and True)\n",
    "print(False and False)"
   ]
  },
  {
   "cell_type": "code",
   "execution_count": 79,
   "id": "f0dd4a9d-7dcc-410f-b994-83a6558f2a31",
   "metadata": {},
   "outputs": [
    {
     "name": "stdout",
     "output_type": "stream",
     "text": [
      "True\n",
      "True\n",
      "True\n",
      "False\n"
     ]
    }
   ],
   "source": [
    "print(True or True)\n",
    "print(True or False)\n",
    "print(False or True)\n",
    "print(False or False)    "
   ]
  },
  {
   "cell_type": "code",
   "execution_count": 77,
   "id": "dcf4a6e5-c599-4821-a538-e3f1e87763c1",
   "metadata": {},
   "outputs": [
    {
     "name": "stdout",
     "output_type": "stream",
     "text": [
      "True\n",
      "False\n",
      "False\n"
     ]
    }
   ],
   "source": [
    "print(True)\n",
    "print(not True)\n",
    "\n",
    "a - True\n",
    "print(not a)"
   ]
  },
  {
   "cell_type": "code",
   "execution_count": 78,
   "id": "66f03e68-a105-4451-9b43-29ac8ba048f8",
   "metadata": {},
   "outputs": [
    {
     "name": "stdout",
     "output_type": "stream",
     "text": [
      "5\n",
      "0\n",
      "0\n",
      "0\n"
     ]
    }
   ],
   "source": [
    "# 단축평가(and)\n",
    "print(3 and 5)\n",
    "print(3 and 0)\n",
    "print(0 and 5)\n",
    "print(0 and 0)"
   ]
  },
  {
   "cell_type": "code",
   "execution_count": 80,
   "id": "4f2a6770-908e-4fec-94c0-7d708327552e",
   "metadata": {},
   "outputs": [
    {
     "name": "stdout",
     "output_type": "stream",
     "text": [
      "3\n",
      "3\n",
      "5\n",
      "0\n"
     ]
    }
   ],
   "source": [
    "# 단축평가(or)\n",
    "print(3 or 5)\n",
    "print(3 or 0)\n",
    "print(0 or 5)\n",
    "print(0 or 0)"
   ]
  },
  {
   "cell_type": "code",
   "execution_count": 81,
   "id": "7d022cc5-ca5f-4ad2-9bc3-df0cf279c4ea",
   "metadata": {},
   "outputs": [
    {
     "name": "stdout",
     "output_type": "stream",
     "text": [
      "index.html\n"
     ]
    }
   ],
   "source": [
    "print(None or 'index.html')"
   ]
  },
  {
   "cell_type": "code",
   "execution_count": 82,
   "id": "aa3172a1-06e6-4414-94c2-17fe80291471",
   "metadata": {},
   "outputs": [
    {
     "name": "stdout",
     "output_type": "stream",
     "text": [
      "login.html\n"
     ]
    }
   ],
   "source": [
    "print('login.html' or 'index.html')"
   ]
  },
  {
   "cell_type": "markdown",
   "id": "39198da8-43b0-4160-ac2d-552e98c57e9b",
   "metadata": {},
   "source": [
    "###  2.4 복합연산자"
   ]
  },
  {
   "cell_type": "code",
   "execution_count": 90,
   "id": "47f822d5-ebe6-4118-bee5-27dde75b8402",
   "metadata": {},
   "outputs": [],
   "source": [
    "a = 2\n",
    "b = 3"
   ]
  },
  {
   "cell_type": "code",
   "execution_count": 95,
   "id": "f78853ea-8788-4cc1-96b7-d207f7af7811",
   "metadata": {},
   "outputs": [],
   "source": [
    "a = a + b\n",
    "a = a - b\n",
    "a = a * b\n",
    "a = a / b\n",
    "a = a // b\n",
    "a = a % b\n",
    "a = a ** b"
   ]
  },
  {
   "cell_type": "code",
   "execution_count": 92,
   "id": "52e0863d-1259-4198-8464-65223008830a",
   "metadata": {},
   "outputs": [
    {
     "name": "stdout",
     "output_type": "stream",
     "text": [
      "5\n"
     ]
    }
   ],
   "source": [
    "print(a)"
   ]
  },
  {
   "cell_type": "code",
   "execution_count": 96,
   "id": "9cf5a44a-6ba5-4212-a68a-889a9fb40625",
   "metadata": {},
   "outputs": [
    {
     "name": "stdout",
     "output_type": "stream",
     "text": [
      "0.0\n"
     ]
    }
   ],
   "source": [
    "a += b\n",
    "a -= b\n",
    "a *= b\n",
    "a /= b\n",
    "a //= b\n",
    "a %= b\n",
    "a **= b\n",
    "print(a)"
   ]
  },
  {
   "cell_type": "markdown",
   "id": "a64fb90a-a937-42c3-b748-be1bf4913d1d",
   "metadata": {},
   "source": [
    "### 2.4 기타연산자"
   ]
  },
  {
   "cell_type": "code",
   "execution_count": 97,
   "id": "29e30c95-05fd-45a3-b93c-742470cd04dd",
   "metadata": {},
   "outputs": [],
   "source": [
    "a = 'hi'\n",
    "b = 'hello'"
   ]
  },
  {
   "cell_type": "code",
   "execution_count": 98,
   "id": "551b92db-0a5e-4e55-86fe-672fda38c87b",
   "metadata": {},
   "outputs": [
    {
     "data": {
      "text/plain": [
       "'hihello'"
      ]
     },
     "execution_count": 98,
     "metadata": {},
     "output_type": "execute_result"
    }
   ],
   "source": [
    "#concatenation 연결\n",
    "a + b"
   ]
  },
  {
   "cell_type": "code",
   "execution_count": 100,
   "id": "8f1bfe02-e673-4fe7-b562-e35dc64982c0",
   "metadata": {},
   "outputs": [],
   "source": [
    "a = [1, 2, 3]\n",
    "b = [9, 8, 7]"
   ]
  },
  {
   "cell_type": "code",
   "execution_count": 101,
   "id": "286122c5-3a78-4e6b-ad7b-8f72bdbce745",
   "metadata": {},
   "outputs": [
    {
     "data": {
      "text/plain": [
       "[1, 2, 3, 9, 8, 7]"
      ]
     },
     "execution_count": 101,
     "metadata": {},
     "output_type": "execute_result"
    }
   ],
   "source": [
    "a + b"
   ]
  },
  {
   "cell_type": "code",
   "execution_count": 105,
   "id": "5c2789e9-201d-4890-aeb1-b7e4f30afe3c",
   "metadata": {},
   "outputs": [
    {
     "name": "stdout",
     "output_type": "stream",
     "text": [
      "True\n",
      "False\n"
     ]
    }
   ],
   "source": [
    "print('a' in 'apple') \n",
    "#in은 앞에 글자가 뒤의 글자에 속해있냐고 묻는 것\n",
    "print('z' in 'apple')"
   ]
  },
  {
   "cell_type": "code",
   "execution_count": 106,
   "id": "bfc5bc41-1041-4b22-9682-bb5b34ceefbf",
   "metadata": {},
   "outputs": [
    {
     "name": "stdout",
     "output_type": "stream",
     "text": [
      "True\n",
      "False\n"
     ]
    }
   ],
   "source": [
    "print( 1 in [1, 2, 3])\n",
    "print(100 in [1, 2, 3])"
   ]
  },
  {
   "cell_type": "code",
   "execution_count": 107,
   "id": "c4728544-c3bc-4c49-baad-83d46264ae21",
   "metadata": {},
   "outputs": [
    {
     "name": "stdout",
     "output_type": "stream",
     "text": [
      "False\n"
     ]
    }
   ],
   "source": [
    "a = 123123\n",
    "b = 123123\n",
    "print(a is b)"
   ]
  },
  {
   "cell_type": "code",
   "execution_count": 1,
   "id": "f8468976-5aad-4dff-a8b3-8c46034efa19",
   "metadata": {},
   "outputs": [
    {
     "name": "stdout",
     "output_type": "stream",
     "text": [
      "True\n"
     ]
    }
   ],
   "source": [
    "a = 10\n",
    "b = 10\n",
    "print(a is b)\n",
    "# is는 위치가 같은지 물어보는 것"
   ]
  },
  {
   "cell_type": "markdown",
   "id": "3c5de51e-edc7-49e7-b7e7-b9dc0dbd6f14",
   "metadata": {},
   "source": [
    "### 연산자 우선순위\n",
    "\n",
    "0. ()를 통해 그룹\n",
    "1. **\n",
    "2. 산술연산자(*, /)\n",
    "3. 산술연산자(+,-)\n",
    "4. 비교연산자, is, in\n",
    "5. not\n",
    "6. and, or"
   ]
  },
  {
   "cell_type": "code",
   "execution_count": 3,
   "id": "a5f17e1e-4909-4ad0-8bd1-d94df5ac0c3f",
   "metadata": {},
   "outputs": [
    {
     "name": "stdout",
     "output_type": "stream",
     "text": [
      "-81\n"
     ]
    }
   ],
   "source": [
    "print(-3 ** 4)"
   ]
  },
  {
   "cell_type": "markdown",
   "id": "65009086-3f1c-4c6b-952f-9d30a6cd1b92",
   "metadata": {},
   "source": [
    "## 3. 형변환\n",
    "###3.1"
   ]
  },
  {
   "cell_type": "code",
   "execution_count": 4,
   "id": "20510ad1-7a07-45a9-be6e-17ff2b8ecbae",
   "metadata": {},
   "outputs": [],
   "source": [
    "a = True\n",
    "b = False\n",
    "c = 1"
   ]
  },
  {
   "cell_type": "code",
   "execution_count": 6,
   "id": "9c1cec71-91f3-4d1e-9159-c6554463f1c0",
   "metadata": {},
   "outputs": [
    {
     "name": "stdout",
     "output_type": "stream",
     "text": [
      "2\n",
      "1\n"
     ]
    }
   ],
   "source": [
    "print(a + c)\n",
    "print(b + c)"
   ]
  },
  {
   "cell_type": "code",
   "execution_count": 7,
   "id": "255ee67c-c868-4def-a114-e5322bd4d87b",
   "metadata": {},
   "outputs": [],
   "source": [
    "int_num = 3\n",
    "float_num = 3.3\n",
    "complex_num = 3 + 3j"
   ]
  },
  {
   "cell_type": "code",
   "execution_count": 9,
   "id": "c3b70dc7-5ad4-4fad-861d-bc85eb17d3f1",
   "metadata": {},
   "outputs": [
    {
     "name": "stdout",
     "output_type": "stream",
     "text": [
      "6.3\n",
      "(6+3j)\n"
     ]
    }
   ],
   "source": [
    "print(int_num + float_num)\n",
    "print(int_num + complex_num)"
   ]
  },
  {
   "cell_type": "markdown",
   "id": "c71d22f5-0b5d-448c-b14a-a124b5924edb",
   "metadata": {},
   "source": [
    "### 3.2 명시적 형변환"
   ]
  },
  {
   "cell_type": "code",
   "execution_count": 11,
   "id": "9dd02121-7aee-4213-9f59-cc037c3b1de4",
   "metadata": {},
   "outputs": [],
   "source": [
    "a = 1\n",
    "b = '번'"
   ]
  },
  {
   "cell_type": "code",
   "execution_count": 13,
   "id": "7078c1d2-3bd5-4506-80cd-4dff2a419da8",
   "metadata": {},
   "outputs": [
    {
     "name": "stdout",
     "output_type": "stream",
     "text": [
      "1번\n"
     ]
    }
   ],
   "source": [
    "print(str(a) + b)"
   ]
  },
  {
   "cell_type": "code",
   "execution_count": 14,
   "id": "fb5e4d4a-8991-43ea-84e7-44b4c9079b98",
   "metadata": {},
   "outputs": [],
   "source": [
    "a = '100'"
   ]
  },
  {
   "cell_type": "code",
   "execution_count": 16,
   "id": "72ba087d-4bcd-4ed3-8504-cdfa6a6e06fb",
   "metadata": {},
   "outputs": [
    {
     "name": "stdout",
     "output_type": "stream",
     "text": [
      "<class 'int'>\n"
     ]
    }
   ],
   "source": [
    "print(type(int(a)))"
   ]
  },
  {
   "cell_type": "code",
   "execution_count": 18,
   "id": "2b59963b-3a37-42e9-b331-1e39978aba82",
   "metadata": {},
   "outputs": [
    {
     "name": "stdin",
     "output_type": "stream",
     "text": [
      " 123\n"
     ]
    },
    {
     "name": "stdout",
     "output_type": "stream",
     "text": [
      "<class 'int'>\n"
     ]
    }
   ],
   "source": [
    "age = int(input())\n",
    "print(type(age))"
   ]
  },
  {
   "cell_type": "code",
   "execution_count": 19,
   "id": "036fb098-4689-49da-9677-b4474561db9b",
   "metadata": {},
   "outputs": [],
   "source": [
    "a = '3.3'"
   ]
  },
  {
   "cell_type": "code",
   "execution_count": 20,
   "id": "b5e1a191-5d1b-4be6-92cf-ee7bbb9f3ae7",
   "metadata": {},
   "outputs": [
    {
     "ename": "ValueError",
     "evalue": "invalid literal for int() with base 10: '3.3'",
     "output_type": "error",
     "traceback": [
      "\u001b[1;31m---------------------------------------------------------------------------\u001b[0m",
      "\u001b[1;31mValueError\u001b[0m                                Traceback (most recent call last)",
      "Cell \u001b[1;32mIn[20], line 1\u001b[0m\n\u001b[1;32m----> 1\u001b[0m \u001b[38;5;28mtype\u001b[39m(\u001b[38;5;28;43mint\u001b[39;49m\u001b[43m(\u001b[49m\u001b[43ma\u001b[49m\u001b[43m)\u001b[49m)\n",
      "\u001b[1;31mValueError\u001b[0m: invalid literal for int() with base 10: '3.3'"
     ]
    }
   ],
   "source": [
    "type(int(a))"
   ]
  },
  {
   "cell_type": "code",
   "execution_count": 21,
   "id": "8724be18-31db-49ce-8973-033c85cf82ba",
   "metadata": {},
   "outputs": [
    {
     "data": {
      "text/plain": [
       "float"
      ]
     },
     "execution_count": 21,
     "metadata": {},
     "output_type": "execute_result"
    }
   ],
   "source": [
    "type(float(a))"
   ]
  },
  {
   "cell_type": "code",
   "execution_count": 22,
   "id": "e402a614-ecf6-4ceb-8bc8-fe10ea035eae",
   "metadata": {},
   "outputs": [],
   "source": [
    "a = 1\n",
    "b = 0\n",
    "c = 100"
   ]
  },
  {
   "cell_type": "code",
   "execution_count": 23,
   "id": "57e0dd27-47e3-4233-a651-d9ead139ab5e",
   "metadata": {},
   "outputs": [
    {
     "name": "stdout",
     "output_type": "stream",
     "text": [
      "True\n",
      "False\n",
      "True\n"
     ]
    }
   ],
   "source": [
    "print(bool(a))\n",
    "print(bool(b))\n",
    "print(bool(c))"
   ]
  },
  {
   "cell_type": "code",
   "execution_count": 24,
   "id": "b20f1014-4aca-4d15-8ac3-30b1575a4834",
   "metadata": {},
   "outputs": [
    {
     "name": "stdout",
     "output_type": "stream",
     "text": [
      "False\n",
      "True\n"
     ]
    }
   ],
   "source": [
    "print(bool(''))\n",
    "print(bool('a'))"
   ]
  },
  {
   "cell_type": "code",
   "execution_count": 26,
   "id": "7d07a420-1b35-49e5-af8c-b7e07de6ee8d",
   "metadata": {},
   "outputs": [
    {
     "name": "stdout",
     "output_type": "stream",
     "text": [
      "False\n",
      "True\n"
     ]
    }
   ],
   "source": [
    "print(bool([]))\n",
    "print(bool([1, 2, 3]))"
   ]
  },
  {
   "cell_type": "markdown",
   "id": "11d90b7e-81a9-432b-9383-35e94261205e",
   "metadata": {},
   "source": [
    "## 4. 시퀀스 자료형\n",
    "\n",
    "시퀀스는 데이터의 순서대로 나열된 자료구조. (순서대로 나열되어있다는 것은 정렬된 것과는 다르다.)\n",
    "1. 리스트(list)\n",
    "2. 튜플(tuple)\n",
    "3. 레인지(range)\n",
    "4. 문자열(string)"
   ]
  },
  {
   "cell_type": "markdown",
   "id": "5a8e46a7-e91e-4ddd-bbe5-7f817c97694d",
   "metadata": {},
   "source": [
    "### 4.1 List(배열)\n",
    "- 선언 : 변수이름 = [value1, value2, vlaue3]\n",
    "- 접근 : 변수이름[index]"
   ]
  },
  {
   "cell_type": "code",
   "execution_count": 27,
   "id": "3896f3bd-179d-4341-b983-89092c1a240d",
   "metadata": {},
   "outputs": [
    {
     "name": "stdout",
     "output_type": "stream",
     "text": [
      "[]\n",
      "<class 'list'>\n"
     ]
    }
   ],
   "source": [
    "l = []\n",
    "print(l)\n",
    "print(type(l))"
   ]
  },
  {
   "cell_type": "code",
   "execution_count": 33,
   "id": "85d5d723-1df9-418e-ba13-7d7e8c38d56e",
   "metadata": {},
   "outputs": [
    {
     "name": "stdout",
     "output_type": "stream",
     "text": [
      "['서울', '대전', '부산']\n",
      "<class 'list'>\n",
      "부산\n",
      "서울\n",
      "['서울', '대전', '제주']\n"
     ]
    }
   ],
   "source": [
    "location = ['서울', '대전', '부산']\n",
    "print(location)\n",
    "print(type(location))\n",
    "\n",
    "print(location[2])\n",
    "print(location[-3])\n",
    "\n",
    "\n",
    "location[2] = '제주'\n",
    "print(location)"
   ]
  },
  {
   "cell_type": "markdown",
   "id": "aa2eeb78-a497-47c7-90fe-002afd2325ff",
   "metadata": {},
   "source": [
    "### 4.2 Tuple\n",
    "- 선언 : 변수이름 = (value1, value2, value3)\n",
    "- 접근 : 변수이름[index]"
   ]
  },
  {
   "cell_type": "code",
   "execution_count": 36,
   "id": "86d4698c-0914-48f1-9dd7-33d8ec496f94",
   "metadata": {},
   "outputs": [
    {
     "name": "stdout",
     "output_type": "stream",
     "text": [
      "(1, 2, 3)\n",
      "<class 'tuple'>\n",
      "3\n"
     ]
    }
   ],
   "source": [
    "t = (1, 2, 3)\n",
    "print(t)\n",
    "print(type(t))\n",
    "print(t[2])"
   ]
  },
  {
   "cell_type": "code",
   "execution_count": 37,
   "id": "ce1d433a-1d31-4cb1-b3cf-dd74dd19c27c",
   "metadata": {},
   "outputs": [
    {
     "ename": "TypeError",
     "evalue": "'tuple' object does not support item assignment",
     "output_type": "error",
     "traceback": [
      "\u001b[1;31m---------------------------------------------------------------------------\u001b[0m",
      "\u001b[1;31mTypeError\u001b[0m                                 Traceback (most recent call last)",
      "Cell \u001b[1;32mIn[37], line 1\u001b[0m\n\u001b[1;32m----> 1\u001b[0m \u001b[43mt\u001b[49m\u001b[43m[\u001b[49m\u001b[38;5;241;43m2\u001b[39;49m\u001b[43m]\u001b[49m \u001b[38;5;241m=\u001b[39m \u001b[38;5;241m100\u001b[39m\n",
      "\u001b[1;31mTypeError\u001b[0m: 'tuple' object does not support item assignment"
     ]
    }
   ],
   "source": [
    "t[2] = 100"
   ]
  },
  {
   "cell_type": "code",
   "execution_count": 40,
   "id": "da0fc6a4-1f7d-4013-9938-6602da7507de",
   "metadata": {},
   "outputs": [
    {
     "name": "stdout",
     "output_type": "stream",
     "text": [
      "<class 'tuple'>\n",
      "2\n"
     ]
    }
   ],
   "source": [
    "# 몫과 나머지를 출력해주는 함수\n",
    "result = divmod(9, 4)\n",
    "print(type(result))\n",
    "print(result[0])"
   ]
  },
  {
   "cell_type": "code",
   "execution_count": 42,
   "id": "775d2688-dcfc-4c03-9b46-e83052752790",
   "metadata": {},
   "outputs": [
    {
     "name": "stdout",
     "output_type": "stream",
     "text": [
      "1 2\n",
      "2 1\n"
     ]
    }
   ],
   "source": [
    "x, y = (1, 2)\n",
    "print(x, y)\n",
    "\n",
    "x, y = y, x\n",
    "print(x, y)"
   ]
  },
  {
   "cell_type": "markdown",
   "id": "a5978df4-2786-4404-90f2-9ca2064a39ab",
   "metadata": {},
   "source": [
    "### 4.3 range\n",
    "- range(n) : 0부터 n-1까지 범위\n",
    "- range(n, m) : n부터 m-1까지 범위\n",
    "- range(n, m, s) : n부터 m-1까지 범위, +s만큼 증가하는 범위"
   ]
  },
  {
   "cell_type": "code",
   "execution_count": 45,
   "id": "b13b30a1-cbcd-4aac-92bc-a2ddd53ccec6",
   "metadata": {},
   "outputs": [
    {
     "name": "stdout",
     "output_type": "stream",
     "text": [
      "range(0, 5)\n",
      "<class 'range'>\n"
     ]
    }
   ],
   "source": [
    "r = range(5)\n",
    "print(r)\n",
    "print(type(r))"
   ]
  },
  {
   "cell_type": "code",
   "execution_count": 46,
   "id": "055686e4-abc7-40cc-83df-0f83892d3b7d",
   "metadata": {},
   "outputs": [
    {
     "name": "stdout",
     "output_type": "stream",
     "text": [
      "range(5, 15)\n"
     ]
    }
   ],
   "source": [
    "r = range(5, 15)\n",
    "print(r)"
   ]
  },
  {
   "cell_type": "code",
   "execution_count": 49,
   "id": "f7e074a8-8d93-4c93-9594-eb06cf49a6be",
   "metadata": {},
   "outputs": [
    {
     "name": "stdout",
     "output_type": "stream",
     "text": [
      "range(5, 15, 2)\n"
     ]
    }
   ],
   "source": [
    "r = range(5, 15, 2)\n",
    "print(r)"
   ]
  },
  {
   "cell_type": "code",
   "execution_count": 50,
   "id": "bf311281-5280-46eb-aae6-12b29ad3e6be",
   "metadata": {},
   "outputs": [
    {
     "data": {
      "text/plain": [
       "[5, 7, 9, 11, 13]"
      ]
     },
     "execution_count": 50,
     "metadata": {},
     "output_type": "execute_result"
    }
   ],
   "source": [
    "list(r)"
   ]
  },
  {
   "cell_type": "markdown",
   "id": "e27c9aaf-c097-4634-bd60-25135735ea99",
   "metadata": {},
   "source": [
    "### 4.4 string\n",
    "기본 데이터 구조 참고"
   ]
  },
  {
   "cell_type": "markdown",
   "id": "274e6109-f007-4f7d-9926-70a72aa97daf",
   "metadata": {},
   "source": [
    "### 4.5 시퀀스에서 사용 가능한 연산/함수"
   ]
  },
  {
   "cell_type": "code",
   "execution_count": 52,
   "id": "6c5d54ba-0d41-401a-832c-58606ed6572e",
   "metadata": {},
   "outputs": [],
   "source": [
    "my_list = [1, 2, 3, 4, 5]\n",
    "my_tuple = (11, 22, 33, 44, 55)\n",
    "my_range = range(1, 10, 2)\n",
    "my_string = '일이삼사오'"
   ]
  },
  {
   "cell_type": "code",
   "execution_count": 56,
   "id": "d7954451-1b8d-4f75-a4c9-0fd73f7b588f",
   "metadata": {},
   "outputs": [
    {
     "name": "stdout",
     "output_type": "stream",
     "text": [
      "2\n",
      "22\n",
      "3\n",
      "이\n"
     ]
    }
   ],
   "source": [
    "# indexing\n",
    "print(my_list[1])\n",
    "print(my_tuple[1])\n",
    "print(my_range[1])\n",
    "print(my_string[1])"
   ]
  },
  {
   "cell_type": "code",
   "execution_count": 58,
   "id": "7f91c3d6-056d-464f-970a-e6894faf65df",
   "metadata": {},
   "outputs": [
    {
     "name": "stdout",
     "output_type": "stream",
     "text": [
      "[2, 3]\n",
      "(22, 33)\n",
      "이삼\n"
     ]
    }
   ],
   "source": [
    "# slicing\n",
    "print(my_list[1:3])\n",
    "print(my_tuple[1:3])\n",
    "print(my_string[1:3])"
   ]
  },
  {
   "cell_type": "code",
   "execution_count": 61,
   "id": "c233c80d-bddf-4549-9db5-cce2e9df3a7a",
   "metadata": {},
   "outputs": [
    {
     "name": "stdout",
     "output_type": "stream",
     "text": [
      "[2, 4]\n",
      "range(5, 11, 4)\n"
     ]
    }
   ],
   "source": [
    "print(my_list[1:4:2])\n",
    "print(my_range[2:7:2])"
   ]
  },
  {
   "cell_type": "code",
   "execution_count": 62,
   "id": "787df4c0-93de-478e-a404-48509fae731a",
   "metadata": {},
   "outputs": [
    {
     "name": "stdout",
     "output_type": "stream",
     "text": [
      "[1, 2, 3]\n",
      "[4, 5]\n"
     ]
    }
   ],
   "source": [
    "print(my_list[ :3])\n",
    "print(my_list[3: ])"
   ]
  },
  {
   "cell_type": "code",
   "execution_count": 63,
   "id": "0948a612-bdb0-4ad8-8972-c921dc8eaa1f",
   "metadata": {},
   "outputs": [
    {
     "name": "stdout",
     "output_type": "stream",
     "text": [
      "True\n",
      "True\n",
      "True\n",
      "True\n"
     ]
    }
   ],
   "source": [
    "# in\n",
    "print(1 in my_list)\n",
    "print(11 in my_tuple)\n",
    "print(1 in my_range)\n",
    "print('일' in my_string)"
   ]
  },
  {
   "cell_type": "code",
   "execution_count": 65,
   "id": "1a1f3dde-e904-415d-bcc3-a52a20b4370c",
   "metadata": {},
   "outputs": [
    {
     "name": "stdout",
     "output_type": "stream",
     "text": [
      "True\n",
      "True\n",
      "False\n",
      "True\n"
     ]
    }
   ],
   "source": [
    "# not in\n",
    "print(11 not in my_list)\n",
    "print(100 not in my_tuple)\n",
    "print(1 not in my_range)\n",
    "print('구' not in my_string)"
   ]
  },
  {
   "cell_type": "code",
   "execution_count": 68,
   "id": "5dca73e5-1acf-46d7-b15a-7dbcbd6081dc",
   "metadata": {},
   "outputs": [
    {
     "name": "stdout",
     "output_type": "stream",
     "text": [
      "[1, 2, 3, 4, 5, 1, 2, 3, 4, 5]\n",
      "(11, 22, 33, 44, 55, 1, 2, 3)\n"
     ]
    }
   ],
   "source": [
    "# concatenation\n",
    "print(my_list + [1, 2, 3, 4, 5])\n",
    "print(my_tuple + (1, 2, 3))"
   ]
  },
  {
   "cell_type": "code",
   "execution_count": 72,
   "id": "136e0080-1d11-4ef2-b666-a3a9d48a1e87",
   "metadata": {},
   "outputs": [
    {
     "name": "stdout",
     "output_type": "stream",
     "text": [
      "일이삼사오일이삼사오일이삼사오\n",
      "[1, 2, 3, 4, 5, 1, 2, 3, 4, 5, 1, 2, 3, 4, 5]\n",
      "[[0, 0, 0, 0, 0, 0, 0, 0, 0, 0], [0, 0, 0, 0, 0, 0, 0, 0, 0, 0], [0, 0, 0, 0, 0, 0, 0, 0, 0, 0], [0, 0, 0, 0, 0, 0, 0, 0, 0, 0], [0, 0, 0, 0, 0, 0, 0, 0, 0, 0], [0, 0, 0, 0, 0, 0, 0, 0, 0, 0], [0, 0, 0, 0, 0, 0, 0, 0, 0, 0], [0, 0, 0, 0, 0, 0, 0, 0, 0, 0], [0, 0, 0, 0, 0, 0, 0, 0, 0, 0], [0, 0, 0, 0, 0, 0, 0, 0, 0, 0]]\n"
     ]
    }
   ],
   "source": [
    "# *\n",
    "print(my_string * 3)\n",
    "print(my_list * 3)\n",
    "\n",
    "print([[0] * 10] * 10)"
   ]
  },
  {
   "cell_type": "code",
   "execution_count": 73,
   "id": "17d74b44-498a-4a4b-9e8f-f875ce15c9d4",
   "metadata": {},
   "outputs": [
    {
     "data": {
      "text/plain": [
       "5"
      ]
     },
     "execution_count": 73,
     "metadata": {},
     "output_type": "execute_result"
    }
   ],
   "source": [
    "len(my_list)"
   ]
  },
  {
   "cell_type": "code",
   "execution_count": 74,
   "id": "215d9fa3-1f7f-4c43-819a-5e7802ebc0b3",
   "metadata": {},
   "outputs": [
    {
     "data": {
      "text/plain": [
       "11"
      ]
     },
     "execution_count": 74,
     "metadata": {},
     "output_type": "execute_result"
    }
   ],
   "source": [
    "min(my_tuple)"
   ]
  },
  {
   "cell_type": "code",
   "execution_count": 75,
   "id": "1dd62448-59fd-4708-860c-9777ad62f240",
   "metadata": {},
   "outputs": [
    {
     "data": {
      "text/plain": [
       "9"
      ]
     },
     "execution_count": 75,
     "metadata": {},
     "output_type": "execute_result"
    }
   ],
   "source": [
    "max(my_range)"
   ]
  },
  {
   "cell_type": "code",
   "execution_count": 76,
   "id": "c8390a84-8e9b-4eeb-8c14-60f950fe8a1b",
   "metadata": {},
   "outputs": [
    {
     "data": {
      "text/plain": [
       "1"
      ]
     },
     "execution_count": 76,
     "metadata": {},
     "output_type": "execute_result"
    }
   ],
   "source": [
    "my_list.count(1)"
   ]
  },
  {
   "cell_type": "markdown",
   "id": "e17df905-bf1b-495e-baeb-6fd0186bacf7",
   "metadata": {},
   "source": [
    "## 5. 시퀀스데이터가 아닌 자료구조\n",
    "### 5.1 set\n",
    "- 수학에서 사용하는 집합과 동일하게 처리 (중복된 값이 없음)\n",
    "- 선언 : 변수이름 = {value1, value2, value3}"
   ]
  },
  {
   "cell_type": "code",
   "execution_count": 80,
   "id": "e65b48fb-79aa-4379-a7f5-8070a0257488",
   "metadata": {},
   "outputs": [],
   "source": [
    "my_set_a = {1, 2, 3, 4, 5}\n",
    "my_set_b = {1, 3, 5, 7, 9}"
   ]
  },
  {
   "cell_type": "code",
   "execution_count": 84,
   "id": "ca7204d9-c219-4825-a76f-6bd420fcf60c",
   "metadata": {},
   "outputs": [
    {
     "name": "stdout",
     "output_type": "stream",
     "text": [
      "{2, 4}\n",
      "{1, 2, 3, 4, 5, 7, 9}\n",
      "{1, 3, 5}\n"
     ]
    }
   ],
   "source": [
    "print(my_set_a - my_set_b) #차집합\n",
    "print(my_set_a | my_set_b) #합집합\n",
    "print(my_set_a & my_set_b) #교집합"
   ]
  },
  {
   "cell_type": "code",
   "execution_count": 85,
   "id": "df0313ba-8520-4bb2-a220-c145d11bb318",
   "metadata": {},
   "outputs": [
    {
     "name": "stdout",
     "output_type": "stream",
     "text": [
      "{1, 2, 3, 4, 5, 6, 7, 8}\n"
     ]
    }
   ],
   "source": [
    "my_list = [1, 2, 3, 1, 4, 1, 2, 3, 5, 6, 7, 8, 2, 2]\n",
    "print(set(my_list)) # 줃복된 값을 거를 때 사용하는 set함수"
   ]
  },
  {
   "cell_type": "markdown",
   "id": "82df8506-2f6e-4e56-94c7-ccc0553f110a",
   "metadata": {},
   "source": [
    "### 5.2 dictionary\n",
    "- 선언 : 변수이름 = {key1: value, key2: value2, key3: value3}\n",
    "- 접근 : 변수이름[key]\n",
    "- dictionary는 key와 value가 쌍으로 이루어져있다.\n",
    "- key에는 immutabble한 모든 값을 사용가능\n",
    "- value에는 모든 데이터 가능. (list, dict도 가능)"
   ]
  },
  {
   "cell_type": "code",
   "execution_count": 86,
   "id": "377e188c-d260-43de-9adb-4bc0f13fbb33",
   "metadata": {},
   "outputs": [
    {
     "data": {
      "text/plain": [
       "'02'"
      ]
     },
     "execution_count": 86,
     "metadata": {},
     "output_type": "execute_result"
    }
   ],
   "source": [
    "my_dict = {'서울': '02', '경기': '031'}\n",
    "my_dict['서울']"
   ]
  },
  {
   "cell_type": "code",
   "execution_count": 87,
   "id": "9a4ee5c9-f939-47e7-bbea-d284e48d37b7",
   "metadata": {
    "scrolled": true
   },
   "outputs": [
    {
     "name": "stdout",
     "output_type": "stream",
     "text": [
      "10\n",
      "4\n"
     ]
    }
   ],
   "source": [
    "dict_a = {\n",
    "    'name': 'changhee',\n",
    "    'age': 10,\n",
    "    'location': 'seoul',\n",
    "    'numbers': [1, 2, 3, 4, 5],\n",
    "    'friends': {\n",
    "        'a': 10,\n",
    "        'b': 11\n",
    "}\n",
    "\n",
    "print(dict_a['age'])\n",
    "print(dict_a['numbers'][3])"
   ]
  },
  {
   "cell_type": "code",
   "execution_count": 88,
   "id": "6e1dced8-1ccb-40e5-b3e3-9bd7b36278aa",
   "metadata": {},
   "outputs": [
    {
     "data": {
      "text/plain": [
       "dict_values(['changhee', 10, 'seoul', [1, 2, 3, 4, 5]])"
      ]
     },
     "execution_count": 88,
     "metadata": {},
     "output_type": "execute_result"
    }
   ],
   "source": [
    "dict_a.values()"
   ]
  },
  {
   "cell_type": "markdown",
   "id": "0bd31b6d-6025-4663-97f7-596aa2473275",
   "metadata": {
    "jp-MarkdownHeadingCollapsed": true
   },
   "source": [
    "## 데이터 타입\n",
    "\n",
    "1. Number\n",
    "2. Boolean\n",
    "3. String\n",
    "\n",
    "## 자료구조\n",
    "\n",
    "- 시퀀스 자료형\n",
    "    1. [List] : mutable(수정가능한)\n",
    "    2. (Tuple) : immutable(수정불가능한)\n",
    "    3. range() : immutable\n",
    "    4. 'String' : immutable\n",
    "\n",
    "\n",
    "- 시퀀스가 아닌 자료형\n",
    "    1. {Set} : mutable\n",
    "    2. {Dict: inonary} : mutable"
   ]
  },
  {
   "cell_type": "code",
   "execution_count": null,
   "id": "19d97e54-8f8c-472e-b665-f8da07ab0a87",
   "metadata": {},
   "outputs": [],
   "source": []
  }
 ],
 "metadata": {
  "kernelspec": {
   "display_name": "Python 3 (ipykernel)",
   "language": "python",
   "name": "python3"
  },
  "language_info": {
   "codemirror_mode": {
    "name": "ipython",
    "version": 3
   },
   "file_extension": ".py",
   "mimetype": "text/x-python",
   "name": "python",
   "nbconvert_exporter": "python",
   "pygments_lexer": "ipython3",
   "version": "3.11.5"
  }
 },
 "nbformat": 4,
 "nbformat_minor": 5
}
